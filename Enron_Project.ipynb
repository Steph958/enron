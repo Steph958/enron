{
 "cells": [
  {
   "cell_type": "markdown",
   "metadata": {},
   "source": [
    "# Udacity - Intro to Machine Learning\n",
    "__________________________________________________________________________\n",
    "\n",
    "## ENRON SCANDAL\n",
    "\n",
    "[Summary link - Wikipedia](https://en.wikipedia.org/wiki/Enron_scandal)\n",
    "\n",
    ">The Enron scandal was a financial scandal that eventually led to the bankruptcy of the Enron Corporation, an American energy company based in Houston, Texas, and the de facto dissolution of Arthur Andersen, which was one of the five largest audit and accountancy partnerships in the world. In addition to being the largest bankruptcy reorganization in American history at that time, Enron was cited as the biggest audit failure.\n",
    "\n",
    ">Enron was formed in 1985 by Kenneth Lay after merging Houston Natural Gas and InterNorth. Several years later, when Jeffrey Skilling was hired, he developed a staff of executives that – by the use of accounting loopholes, special purpose entities, and poor financial reporting – were able to hide billions of dollars in debt from failed deals and projects. Chief Financial Officer Andrew Fastow and other executives not only misled Enron's Board of Directors and Audit Committee on high-risk accounting practices, but also pressured Arthur Andersen to ignore the issues.\n",
    "\n",
    ">Enron shareholders filed a 40 billion dollar lawsuit after the company's stock price, which achieved a high of US90.75 per share in mid-2000, plummeted to less than 1 dollar by the end of November 2001. The U.S. Securities and Exchange Commission (SEC) began an investigation, and rival Houston competitor Dynegy offered to purchase the company at a very low price. The deal failed, and on December 2, 2001, Enron filed for bankruptcy under Chapter 11 of the United States Bankruptcy Code. Enron's 63.4 billion dollars in assets made it the largest corporate bankruptcy in U.S. history until WorldCom's bankruptcy the next year.\n",
    "\n",
    ">Many executives at Enron were indicted for a variety of charges and some were later sentenced to prison. Enron's auditor, Arthur Andersen, was found guilty in a United States District Court of illegally destroying documents relevant to the SEC investigation which voided its license to audit public companies, effectively closing the business. By the time the ruling was overturned at the U.S. Supreme Court, the company had lost the majority of its customers and had ceased operating. Enron employees and shareholders received limited returns in lawsuits, despite losing billions in pensions and stock prices. As a consequence of the scandal, new regulations and legislation were enacted to expand the accuracy of financial reporting for public companies. One piece of legislation, the Sarbanes–Oxley Act, increased penalties for destroying, altering, or fabricating records in federal investigations or for attempting to defraud shareholders. The act also increased the accountability of auditing firms to remain unbiased and independent of their clients."
   ]
  },
  {
   "cell_type": "markdown",
   "metadata": {},
   "source": [
    "[EnronCEO Picture]('EnronCEO.png')\n",
    "<br>\n",
    "[Trial of Ken Lay and Jeff Skilling](https://en.wikipedia.org/wiki/Trial_of_Kenneth_Lay_and_Jeffrey_Skilling)\n",
    "<br>\n",
    "<img src='EnronCEO.png'>\n",
    "\n",
    "## Final Project: Identify Fraud from Enron Email\n",
    "### By:  Marissa Schmucker\n",
    "### May 2018\n",
    "\n",
    "__________________________________________________________________________"
   ]
  },
  {
   "cell_type": "markdown",
   "metadata": {},
   "source": [
    "<a id='top'></a>\n",
    "\n",
    "Table of Contents\n",
    "<br><br>\n",
    "[Project Goal](#Goal) | \n",
    "<br>\n",
    "[Dataset Questions](#Questions) | \n",
    "<br>\n",
    "[Dataset Information](#Info) | \n",
    "<br>\n",
    "[Feature Statistics](#Stats) |\n",
    "<br>\n",
    "[Explore Features](#Features) |\n",
    "<br>\n",
    "- [Salary](#Salary)\n",
    "- [Bonus](#Bonus)\n",
    "- [Total Payments](#Total Payments)\n",
    "- [Exercised Stock Options](#Stock Options)\n",
    "- [Total Stock Value](#Total Stock Value)\n",
    "- [Total Bonus and Exercised Stock Options](#Total BE)\n",
    "- [Total Payments and Stock Value in Millions](#Total Millions)\n",
    "- [Shared Receipt with POI](#Shared Receipt)\n",
    "- [To Messages](#To Messages)\n",
    "- [From Messages](#From Messages)\n",
    "- [Fraction to POI](#FTP)\n",
    "- [Fraction from POI](#FFP)\n",
    "\n",
    "<br>\n",
    "[Outliers](#Outliers) | \n",
    "<br>\n",
    "[Transform, Select, and Scale](#TSS) | \n",
    "<br>\n",
    "[Algorithm Selection](#Algorithm) | \n",
    "<br>\n",
    "[Evaluation Metrics](#Metrics) | \n",
    "<br>\n",
    "[Performance Test](#Test) |\n",
    "<br>\n",
    "[Parameter Tuning](#Tuning) | \n",
    "<br>\n",
    "[Final Analysis](#Analysis) |\n",
    "<br>\n",
    "[Validating Our Analysis](#Validating) | \n",
    "<br>\n",
    "[Final Thoughts](#Thoughts) | \n",
    "<br>\n",
    "____________________________________________________________________________"
   ]
  },
  {
   "cell_type": "markdown",
   "metadata": {},
   "source": [
    "<a id='Goal'></a>\n",
    "\n",
    "## Project Goal\n",
    "\n",
    "The goal of this project is to use the Enron dataset to train our machine learning algorithm to detect the possiblity of fraud (identify person's of interest.)  Since we know our persons of interest (POIs) in our dataset, we will be able to use supervised learning algorithms in constructing our POI identifier.  This will be done by picking the features within our dataset that separate our POIs from our non-POIs best.  \n",
    "<br>\n",
    "We will start out our analysis by answering some questions about our data.  Then, we will explore our features further by visualizing any correlations/outliers.  Next, we will transform/scale our features and select those that will be most useful in our POI identifier, engineering new features and adding them to the dataset if provided to be useful for our analysis.  We will identify at least two algorithms that may be best suited for our particular set of data and test them, tuning our parameters until optimal performance is reached.  In our final analysis, the algorithm we have fit will be validated using our training/testing data.  Using performance metrics to evaluate our results, any problems will be addressed and motifications made.  In our final thoughts, the performance of our final algorithm will be discussed. \n",
    "<br>\n"
   ]
  },
  {
   "cell_type": "code",
   "execution_count": 1,
   "metadata": {
    "collapsed": true
   },
   "outputs": [],
   "source": [
    "\"\"\"Import pickle and sklearn to get started.\n",
    "Load the data as enron_dict\"\"\"\n",
    "\n",
    "import pickle\n",
    "import sklearn\n",
    "\n",
    "enron_dict = pickle.load(open(\"final_project_dataset.pkl\", \"r\"))"
   ]
  },
  {
   "cell_type": "markdown",
   "metadata": {},
   "source": [
    "<a id='Questions'></a>\n",
    "\n",
    "## Dataset Questions\n",
    "\n",
    "After getting our data dictionary loaded, we can start exploring our data.  We'll answer the following questions:\n",
    "<br>\n",
    "1. How many people do we have in our dataset?\n",
    "2. What are their names?\n",
    "3. What information do we have about these people?\n",
    "4. Who are the POIs in our dataset?\n",
    "5. Who are the highest earners?  Are they POIs?\n",
    "6. Whos stock options had the highest value (max exercised_stock_options)?\n",
    "7. Are there any features we can ignore due to missing data?\n",
    "8. What is the mean salary for non-POIs and POIs?\n",
    "9. What features might be useful for training our algorithm?\n",
    "10. Are there any features we may need to scale?\n",
    "\n",
    "[Top](#top)"
   ]
  },
  {
   "cell_type": "code",
   "execution_count": 2,
   "metadata": {
    "collapsed": false
   },
   "outputs": [
    {
     "name": "stdout",
     "output_type": "stream",
     "text": [
      "Number of People in Dataset:  146\n"
     ]
    }
   ],
   "source": [
    "print 'Number of People in Dataset: ', len(enron_dict) "
   ]
  },
  {
   "cell_type": "code",
   "execution_count": 3,
   "metadata": {
    "collapsed": true
   },
   "outputs": [],
   "source": [
    "import pprint\n",
    "\n",
    "pretty = pprint.PrettyPrinter()"
   ]
  },
  {
   "cell_type": "code",
   "execution_count": 4,
   "metadata": {
    "collapsed": false
   },
   "outputs": [
    {
     "name": "stdout",
     "output_type": "stream",
     "text": [
      "Sorted list of Enron employees by last name\n",
      "['ALLEN PHILLIP K',\n",
      " 'BADUM JAMES P',\n",
      " 'BANNANTINE JAMES M',\n",
      " 'BAXTER JOHN C',\n",
      " 'BAY FRANKLIN R',\n",
      " 'BAZELIDES PHILIP J',\n",
      " 'BECK SALLY W',\n",
      " 'BELDEN TIMOTHY N',\n",
      " 'BELFER ROBERT',\n",
      " 'BERBERIAN DAVID',\n",
      " 'BERGSIEKER RICHARD P',\n",
      " 'BHATNAGAR SANJAY',\n",
      " 'BIBI PHILIPPE A',\n",
      " 'BLACHMAN JEREMY M',\n",
      " 'BLAKE JR. NORMAN P',\n",
      " 'BOWEN JR RAYMOND M',\n",
      " 'BROWN MICHAEL',\n",
      " 'BUCHANAN HAROLD G',\n",
      " 'BUTTS ROBERT H',\n",
      " 'BUY RICHARD B',\n",
      " 'CALGER CHRISTOPHER F',\n",
      " 'CARTER REBECCA C',\n",
      " 'CAUSEY RICHARD A',\n",
      " 'CHAN RONNIE',\n",
      " 'CHRISTODOULOU DIOMEDES',\n",
      " 'CLINE KENNETH W',\n",
      " 'COLWELL WESLEY',\n",
      " 'CORDES WILLIAM R',\n",
      " 'COX DAVID',\n",
      " 'CUMBERLAND MICHAEL S',\n",
      " 'DEFFNER JOSEPH M',\n",
      " 'DELAINEY DAVID W',\n",
      " 'DERRICK JR. JAMES V',\n",
      " 'DETMERING TIMOTHY J',\n",
      " 'DIETRICH JANET R',\n",
      " 'DIMICHELE RICHARD G',\n",
      " 'DODSON KEITH',\n",
      " 'DONAHUE JR JEFFREY M',\n",
      " 'DUNCAN JOHN H',\n",
      " 'DURAN WILLIAM D',\n",
      " 'ECHOLS JOHN B',\n",
      " 'ELLIOTT STEVEN',\n",
      " 'FALLON JAMES B',\n",
      " 'FASTOW ANDREW S',\n",
      " 'FITZGERALD JAY L',\n",
      " 'FOWLER PEGGY',\n",
      " 'FOY JOE',\n",
      " 'FREVERT MARK A',\n",
      " 'FUGH JOHN L',\n",
      " 'GAHN ROBERT S',\n",
      " 'GARLAND C KEVIN',\n",
      " 'GATHMANN WILLIAM D',\n",
      " 'GIBBS DANA R',\n",
      " 'GILLIS JOHN',\n",
      " 'GLISAN JR BEN F',\n",
      " 'GOLD JOSEPH',\n",
      " 'GRAMM WENDY L',\n",
      " 'GRAY RODNEY',\n",
      " 'HAEDICKE MARK E',\n",
      " 'HANNON KEVIN P',\n",
      " 'HAUG DAVID L',\n",
      " 'HAYES ROBERT E',\n",
      " 'HAYSLETT RODERICK J',\n",
      " 'HERMANN ROBERT J',\n",
      " 'HICKERSON GARY J',\n",
      " 'HIRKO JOSEPH',\n",
      " 'HORTON STANLEY C',\n",
      " 'HUGHES JAMES A',\n",
      " 'HUMPHREY GENE E',\n",
      " 'IZZO LAWRENCE L',\n",
      " 'JACKSON CHARLENE R',\n",
      " 'JAEDICKE ROBERT',\n",
      " 'KAMINSKI WINCENTY J',\n",
      " 'KEAN STEVEN J',\n",
      " 'KISHKILL JOSEPH G',\n",
      " 'KITCHEN LOUISE',\n",
      " 'KOENIG MARK E',\n",
      " 'KOPPER MICHAEL J',\n",
      " 'LAVORATO JOHN J',\n",
      " 'LAY KENNETH L',\n",
      " 'LEFF DANIEL P',\n",
      " 'LEMAISTRE CHARLES',\n",
      " 'LEWIS RICHARD',\n",
      " 'LINDHOLM TOD A',\n",
      " 'LOCKHART EUGENE E',\n",
      " 'LOWRY CHARLES P',\n",
      " 'MARTIN AMANDA K',\n",
      " 'MCCARTY DANNY J',\n",
      " 'MCCLELLAN GEORGE',\n",
      " 'MCCONNELL MICHAEL S',\n",
      " 'MCDONALD REBECCA',\n",
      " 'MCMAHON JEFFREY',\n",
      " 'MENDELSOHN JOHN',\n",
      " 'METTS MARK',\n",
      " 'MEYER JEROME J',\n",
      " 'MEYER ROCKFORD G',\n",
      " 'MORAN MICHAEL P',\n",
      " 'MORDAUNT KRISTINA M',\n",
      " 'MULLER MARK S',\n",
      " 'MURRAY JULIA H',\n",
      " 'NOLES JAMES L',\n",
      " 'OLSON CINDY K',\n",
      " 'OVERDYKE JR JERE C',\n",
      " 'PAI LOU L',\n",
      " 'PEREIRA PAULO V. FERRAZ',\n",
      " 'PICKERING MARK R',\n",
      " 'PIPER GREGORY F',\n",
      " 'PIRO JIM',\n",
      " 'POWERS WILLIAM',\n",
      " 'PRENTICE JAMES',\n",
      " 'REDMOND BRIAN L',\n",
      " 'REYNOLDS LAWRENCE',\n",
      " 'RICE KENNETH D',\n",
      " 'RIEKER PAULA H',\n",
      " 'SAVAGE FRANK',\n",
      " 'SCRIMSHAW MATTHEW',\n",
      " 'SHANKMAN JEFFREY A',\n",
      " 'SHAPIRO RICHARD S',\n",
      " 'SHARP VICTORIA T',\n",
      " 'SHELBY REX',\n",
      " 'SHERRICK JEFFREY B',\n",
      " 'SHERRIFF JOHN R',\n",
      " 'SKILLING JEFFREY K',\n",
      " 'STABLER FRANK',\n",
      " 'SULLIVAN-SHAKLOVITZ COLLEEN',\n",
      " 'SUNDE MARTIN',\n",
      " 'TAYLOR MITCHELL S',\n",
      " 'THE TRAVEL AGENCY IN THE PARK',\n",
      " 'THORN TERENCE H',\n",
      " 'TILNEY ELIZABETH A',\n",
      " 'TOTAL',\n",
      " 'UMANOFF ADAM S',\n",
      " 'URQUHART JOHN A',\n",
      " 'WAKEHAM JOHN',\n",
      " 'WALLS JR ROBERT H',\n",
      " 'WALTERS GARETH W',\n",
      " 'WASAFF GEORGE',\n",
      " 'WESTFAHL RICHARD K',\n",
      " 'WHALEY DAVID A',\n",
      " 'WHALLEY LAWRENCE G',\n",
      " 'WHITE JR THOMAS E',\n",
      " 'WINOKUR JR. HERBERT S',\n",
      " 'WODRASKA JOHN',\n",
      " 'WROBEL BRUCE',\n",
      " 'YEAGER F SCOTT',\n",
      " 'YEAP SOON']\n"
     ]
    }
   ],
   "source": [
    "names = sorted(enron_dict.keys())  #sort names of Enron employees in dataset by first letter of last name\n",
    "\n",
    "print 'Sorted list of Enron employees by last name'\n",
    "pretty.pprint(names) "
   ]
  },
  {
   "cell_type": "code",
   "execution_count": 5,
   "metadata": {
    "collapsed": false
   },
   "outputs": [
    {
     "name": "stdout",
     "output_type": "stream",
     "text": [
      "Example Value Dictionary of Features\n",
      "{'bonus': 4175000,\n",
      " 'deferral_payments': 2869717,\n",
      " 'deferred_income': -3081055,\n",
      " 'director_fees': 'NaN',\n",
      " 'email_address': 'phillip.allen@enron.com',\n",
      " 'exercised_stock_options': 1729541,\n",
      " 'expenses': 13868,\n",
      " 'from_messages': 2195,\n",
      " 'from_poi_to_this_person': 47,\n",
      " 'from_this_person_to_poi': 65,\n",
      " 'loan_advances': 'NaN',\n",
      " 'long_term_incentive': 304805,\n",
      " 'other': 152,\n",
      " 'poi': False,\n",
      " 'restricted_stock': 126027,\n",
      " 'restricted_stock_deferred': -126027,\n",
      " 'salary': 201955,\n",
      " 'shared_receipt_with_poi': 1407,\n",
      " 'to_messages': 2902,\n",
      " 'total_payments': 4484442,\n",
      " 'total_stock_value': 1729541}\n"
     ]
    }
   ],
   "source": [
    "print 'Example Value Dictionary of Features'\n",
    "pretty.pprint(enron_dict['ALLEN PHILLIP K']) "
   ]
  },
  {
   "cell_type": "markdown",
   "metadata": {},
   "source": [
    "Before we go any further, let's transform our dictionary into a pandas dataframe to explore further."
   ]
  },
  {
   "cell_type": "code",
   "execution_count": 6,
   "metadata": {
    "collapsed": false
   },
   "outputs": [],
   "source": [
    "import csv\n",
    "\n",
    "\"\"\"Write Enron Dictionary to CSV File for Possible Future Use and Easily Read into Dataframe\"\"\"\n",
    "\n",
    "fieldnames = ['name'] + enron_dict['METTS MARK'].keys()\n",
    "\n",
    "with open('enron.csv', 'w') as csvfile:\n",
    "    writer = csv.DictWriter(csvfile, fieldnames=fieldnames)\n",
    "\n",
    "    writer.writeheader()\n",
    "    for name in enron_dict.keys():\n",
    "        if name != 'TOTAL':\n",
    "            n = {'name':name}\n",
    "            n.update(enron_dict[name])\n",
    "            writer.writerow(n)      \n"
   ]
  },
  {
   "cell_type": "code",
   "execution_count": 7,
   "metadata": {
    "collapsed": false
   },
   "outputs": [],
   "source": [
    "#read csv into pandas dataframe \n",
    "import pandas as pd\n",
    "enron = pd.read_csv('enron.csv')"
   ]
  },
  {
   "cell_type": "code",
   "execution_count": 8,
   "metadata": {
    "collapsed": true
   },
   "outputs": [],
   "source": [
    "#added/combined feature, total bonus and exercised_stock_options\n",
    "enron['total_be'] = enron['bonus'].fillna(0.0) + enron['exercised_stock_options'].fillna(0.0)"
   ]
  },
  {
   "cell_type": "code",
   "execution_count": 9,
   "metadata": {
    "collapsed": false
   },
   "outputs": [],
   "source": [
    "#added feature, fraction of e-mails to and from poi\n",
    "enron['fraction_to_poi'] = enron['from_this_person_to_poi'].fillna(0.0)/enron['from_messages'].fillna(0.0)\n",
    "enron['fraction_from_poi'] = enron['from_poi_to_this_person'].fillna(0.0)/enron['to_messages'].fillna(0.0)"
   ]
  },
  {
   "cell_type": "code",
   "execution_count": 10,
   "metadata": {
    "collapsed": true
   },
   "outputs": [],
   "source": [
    "#added feature, scaled total compensation\n",
    "enron['total_millions'] = (enron['total_payments'].fillna(0.0) + enron['total_stock_value'].fillna(0.0))/1000000"
   ]
  },
  {
   "cell_type": "markdown",
   "metadata": {},
   "source": [
    "<a id='Info'></a>\n",
    "\n",
    "## Dataset Information"
   ]
  },
  {
   "cell_type": "code",
   "execution_count": 11,
   "metadata": {
    "collapsed": false
   },
   "outputs": [
    {
     "name": "stdout",
     "output_type": "stream",
     "text": [
      "<class 'pandas.core.frame.DataFrame'>\n",
      "RangeIndex: 145 entries, 0 to 144\n",
      "Data columns (total 26 columns):\n",
      "name                         145 non-null object\n",
      "salary                       94 non-null float64\n",
      "to_messages                  86 non-null float64\n",
      "deferral_payments            38 non-null float64\n",
      "total_payments               124 non-null float64\n",
      "exercised_stock_options      101 non-null float64\n",
      "bonus                        81 non-null float64\n",
      "restricted_stock             109 non-null float64\n",
      "shared_receipt_with_poi      86 non-null float64\n",
      "restricted_stock_deferred    17 non-null float64\n",
      "total_stock_value            125 non-null float64\n",
      "expenses                     94 non-null float64\n",
      "loan_advances                3 non-null float64\n",
      "from_messages                86 non-null float64\n",
      "other                        92 non-null float64\n",
      "from_this_person_to_poi      86 non-null float64\n",
      "poi                          145 non-null bool\n",
      "director_fees                16 non-null float64\n",
      "deferred_income              48 non-null float64\n",
      "long_term_incentive          65 non-null float64\n",
      "email_address                111 non-null object\n",
      "from_poi_to_this_person      86 non-null float64\n",
      "total_be                     145 non-null float64\n",
      "fraction_to_poi              86 non-null float64\n",
      "fraction_from_poi            86 non-null float64\n",
      "total_millions               145 non-null float64\n",
      "dtypes: bool(1), float64(23), object(2)\n",
      "memory usage: 28.5+ KB\n"
     ]
    }
   ],
   "source": [
    "#data information/types\n",
    "\n",
    "enron.info()"
   ]
  },
  {
   "cell_type": "markdown",
   "metadata": {},
   "source": [
    "[Top](#top)\n",
    "\n",
    "Just by looking at our dataset information above, we can quickly point out a few ways to narrow down our feature selection.  Some of our features have lots of <b>missing data</b>, so those may be ones that we can remove.  Features like \"restricted_stock_deferred\", \"loan_advances\", and \"director_fees\" may be some that we can take out altogether.  There are also a few features that seem to be giving us the same information, like \"shared_receipt_with_poi\",\"to_messages\", \"from_messages\", \"from_this_person_to_poi\", and \"from_poi_to_this_person\" all tell us about the person's e-mail behavior and all have the same data count, 86.  We may be able to narrow those features down to just one or two, or <b>create a new feature</b> from them (see feature added above.)\n",
    "<br><br>\n",
    "Features that may be most useful, since we're dealing with corporate fraud, are those features that tell us about the money.  Let's follow the money!  Features that will give us that money trail will be \"salary\", \"total_payments\", \"exercised_stock_options\", \"bonus\", \"restricted_stock\", and \"total_stock_value\".\n",
    "<br><br>\n",
    "For now, let's continue to explore our dataset before making our final selection."
   ]
  },
  {
   "cell_type": "markdown",
   "metadata": {},
   "source": [
    "<a id='Stats'></a>\n",
    "\n",
    "## Feature Statistics"
   ]
  },
  {
   "cell_type": "code",
   "execution_count": 12,
   "metadata": {
    "collapsed": false
   },
   "outputs": [
    {
     "name": "stdout",
     "output_type": "stream",
     "text": [
      "There are 18 POI in our Dataset as you can see by our \"True\" count\n"
     ]
    },
    {
     "data": {
      "text/plain": [
       "False    127\n",
       "True      18\n",
       "Name: poi, dtype: int64"
      ]
     },
     "execution_count": 12,
     "metadata": {},
     "output_type": "execute_result"
    }
   ],
   "source": [
    "#number of POI in dataset\n",
    "print 'There are 18 POI in our Dataset as you can see by our \"True\" count'\n",
    "enron['poi'].value_counts()"
   ]
  },
  {
   "cell_type": "code",
   "execution_count": 13,
   "metadata": {
    "collapsed": false
   },
   "outputs": [
    {
     "data": {
      "text/html": [
       "<div>\n",
       "<table border=\"1\" class=\"dataframe\">\n",
       "  <thead>\n",
       "    <tr style=\"text-align: right;\">\n",
       "      <th></th>\n",
       "      <th>salary</th>\n",
       "      <th>bonus</th>\n",
       "      <th>exercised_stock_options</th>\n",
       "      <th>total_stock_value</th>\n",
       "      <th>total_payments</th>\n",
       "      <th>total_be</th>\n",
       "      <th>total_millions</th>\n",
       "    </tr>\n",
       "  </thead>\n",
       "  <tbody>\n",
       "    <tr>\n",
       "      <th>count</th>\n",
       "      <td>7.700000e+01</td>\n",
       "      <td>6.500000e+01</td>\n",
       "      <td>8.900000e+01</td>\n",
       "      <td>1.070000e+02</td>\n",
       "      <td>1.060000e+02</td>\n",
       "      <td>1.270000e+02</td>\n",
       "      <td>127.000000</td>\n",
       "    </tr>\n",
       "    <tr>\n",
       "      <th>mean</th>\n",
       "      <td>2.621515e+05</td>\n",
       "      <td>9.868249e+05</td>\n",
       "      <td>1.947752e+06</td>\n",
       "      <td>2.374085e+06</td>\n",
       "      <td>1.725091e+06</td>\n",
       "      <td>1.870028e+06</td>\n",
       "      <td>3.440052</td>\n",
       "    </tr>\n",
       "    <tr>\n",
       "      <th>std</th>\n",
       "      <td>1.392317e+05</td>\n",
       "      <td>1.173880e+06</td>\n",
       "      <td>2.547068e+06</td>\n",
       "      <td>3.535017e+06</td>\n",
       "      <td>2.618288e+06</td>\n",
       "      <td>2.693997e+06</td>\n",
       "      <td>4.839977</td>\n",
       "    </tr>\n",
       "    <tr>\n",
       "      <th>min</th>\n",
       "      <td>4.770000e+02</td>\n",
       "      <td>7.000000e+04</td>\n",
       "      <td>3.285000e+03</td>\n",
       "      <td>-4.409300e+04</td>\n",
       "      <td>1.480000e+02</td>\n",
       "      <td>0.000000e+00</td>\n",
       "      <td>0.000000</td>\n",
       "    </tr>\n",
       "    <tr>\n",
       "      <th>25%</th>\n",
       "      <td>2.061210e+05</td>\n",
       "      <td>4.000000e+05</td>\n",
       "      <td>4.365150e+05</td>\n",
       "      <td>4.246845e+05</td>\n",
       "      <td>3.304798e+05</td>\n",
       "      <td>2.213790e+05</td>\n",
       "      <td>0.507935</td>\n",
       "    </tr>\n",
       "    <tr>\n",
       "      <th>50%</th>\n",
       "      <td>2.516540e+05</td>\n",
       "      <td>7.000000e+05</td>\n",
       "      <td>1.030329e+06</td>\n",
       "      <td>1.030329e+06</td>\n",
       "      <td>1.056092e+06</td>\n",
       "      <td>8.862310e+05</td>\n",
       "      <td>1.884748</td>\n",
       "    </tr>\n",
       "    <tr>\n",
       "      <th>75%</th>\n",
       "      <td>2.885890e+05</td>\n",
       "      <td>1.000000e+06</td>\n",
       "      <td>2.165172e+06</td>\n",
       "      <td>2.307584e+06</td>\n",
       "      <td>2.006025e+06</td>\n",
       "      <td>2.250522e+06</td>\n",
       "      <td>4.317325</td>\n",
       "    </tr>\n",
       "    <tr>\n",
       "      <th>max</th>\n",
       "      <td>1.060932e+06</td>\n",
       "      <td>8.000000e+06</td>\n",
       "      <td>1.536417e+07</td>\n",
       "      <td>2.381793e+07</td>\n",
       "      <td>1.725253e+07</td>\n",
       "      <td>1.636417e+07</td>\n",
       "      <td>31.874715</td>\n",
       "    </tr>\n",
       "  </tbody>\n",
       "</table>\n",
       "</div>"
      ],
      "text/plain": [
       "             salary         bonus  exercised_stock_options  total_stock_value  \\\n",
       "count  7.700000e+01  6.500000e+01             8.900000e+01       1.070000e+02   \n",
       "mean   2.621515e+05  9.868249e+05             1.947752e+06       2.374085e+06   \n",
       "std    1.392317e+05  1.173880e+06             2.547068e+06       3.535017e+06   \n",
       "min    4.770000e+02  7.000000e+04             3.285000e+03      -4.409300e+04   \n",
       "25%    2.061210e+05  4.000000e+05             4.365150e+05       4.246845e+05   \n",
       "50%    2.516540e+05  7.000000e+05             1.030329e+06       1.030329e+06   \n",
       "75%    2.885890e+05  1.000000e+06             2.165172e+06       2.307584e+06   \n",
       "max    1.060932e+06  8.000000e+06             1.536417e+07       2.381793e+07   \n",
       "\n",
       "       total_payments      total_be  total_millions  \n",
       "count    1.060000e+02  1.270000e+02      127.000000  \n",
       "mean     1.725091e+06  1.870028e+06        3.440052  \n",
       "std      2.618288e+06  2.693997e+06        4.839977  \n",
       "min      1.480000e+02  0.000000e+00        0.000000  \n",
       "25%      3.304798e+05  2.213790e+05        0.507935  \n",
       "50%      1.056092e+06  8.862310e+05        1.884748  \n",
       "75%      2.006025e+06  2.250522e+06        4.317325  \n",
       "max      1.725253e+07  1.636417e+07       31.874715  "
      ]
     },
     "execution_count": 13,
     "metadata": {},
     "output_type": "execute_result"
    }
   ],
   "source": [
    "#set a baseline by extracting non-POIs and printing stats\n",
    "\n",
    "non_poi = enron[enron.poi.isin([False])]\n",
    "\n",
    "non_poi_money = non_poi[['salary','bonus','exercised_stock_options','total_stock_value',\\\n",
    "                         'total_payments','total_be','total_millions']].describe()\n",
    "non_poi_money"
   ]
  },
  {
   "cell_type": "code",
   "execution_count": 14,
   "metadata": {
    "collapsed": false
   },
   "outputs": [
    {
     "data": {
      "text/html": [
       "<div>\n",
       "<table border=\"1\" class=\"dataframe\">\n",
       "  <thead>\n",
       "    <tr style=\"text-align: right;\">\n",
       "      <th></th>\n",
       "      <th>shared_receipt_with_poi</th>\n",
       "      <th>to_messages</th>\n",
       "      <th>from_messages</th>\n",
       "      <th>fraction_from_poi</th>\n",
       "      <th>fraction_to_poi</th>\n",
       "    </tr>\n",
       "  </thead>\n",
       "  <tbody>\n",
       "    <tr>\n",
       "      <th>count</th>\n",
       "      <td>72.000000</td>\n",
       "      <td>72.000000</td>\n",
       "      <td>72.000000</td>\n",
       "      <td>72.000000</td>\n",
       "      <td>72.000000</td>\n",
       "    </tr>\n",
       "    <tr>\n",
       "      <th>mean</th>\n",
       "      <td>1058.527778</td>\n",
       "      <td>2007.111111</td>\n",
       "      <td>668.763889</td>\n",
       "      <td>0.036107</td>\n",
       "      <td>0.152669</td>\n",
       "    </tr>\n",
       "    <tr>\n",
       "      <th>std</th>\n",
       "      <td>1132.503757</td>\n",
       "      <td>2693.165955</td>\n",
       "      <td>1978.997801</td>\n",
       "      <td>0.041929</td>\n",
       "      <td>0.206057</td>\n",
       "    </tr>\n",
       "    <tr>\n",
       "      <th>min</th>\n",
       "      <td>2.000000</td>\n",
       "      <td>57.000000</td>\n",
       "      <td>12.000000</td>\n",
       "      <td>0.000000</td>\n",
       "      <td>0.000000</td>\n",
       "    </tr>\n",
       "    <tr>\n",
       "      <th>25%</th>\n",
       "      <td>191.500000</td>\n",
       "      <td>513.750000</td>\n",
       "      <td>20.500000</td>\n",
       "      <td>0.007760</td>\n",
       "      <td>0.000000</td>\n",
       "    </tr>\n",
       "    <tr>\n",
       "      <th>50%</th>\n",
       "      <td>594.000000</td>\n",
       "      <td>944.000000</td>\n",
       "      <td>41.000000</td>\n",
       "      <td>0.022741</td>\n",
       "      <td>0.053776</td>\n",
       "    </tr>\n",
       "    <tr>\n",
       "      <th>75%</th>\n",
       "      <td>1635.500000</td>\n",
       "      <td>2590.750000</td>\n",
       "      <td>216.500000</td>\n",
       "      <td>0.050705</td>\n",
       "      <td>0.225000</td>\n",
       "    </tr>\n",
       "    <tr>\n",
       "      <th>max</th>\n",
       "      <td>4527.000000</td>\n",
       "      <td>15149.000000</td>\n",
       "      <td>14368.000000</td>\n",
       "      <td>0.217341</td>\n",
       "      <td>1.000000</td>\n",
       "    </tr>\n",
       "  </tbody>\n",
       "</table>\n",
       "</div>"
      ],
      "text/plain": [
       "       shared_receipt_with_poi   to_messages  from_messages  \\\n",
       "count                72.000000     72.000000      72.000000   \n",
       "mean               1058.527778   2007.111111     668.763889   \n",
       "std                1132.503757   2693.165955    1978.997801   \n",
       "min                   2.000000     57.000000      12.000000   \n",
       "25%                 191.500000    513.750000      20.500000   \n",
       "50%                 594.000000    944.000000      41.000000   \n",
       "75%                1635.500000   2590.750000     216.500000   \n",
       "max                4527.000000  15149.000000   14368.000000   \n",
       "\n",
       "       fraction_from_poi  fraction_to_poi  \n",
       "count          72.000000        72.000000  \n",
       "mean            0.036107         0.152669  \n",
       "std             0.041929         0.206057  \n",
       "min             0.000000         0.000000  \n",
       "25%             0.007760         0.000000  \n",
       "50%             0.022741         0.053776  \n",
       "75%             0.050705         0.225000  \n",
       "max             0.217341         1.000000  "
      ]
     },
     "execution_count": 14,
     "metadata": {},
     "output_type": "execute_result"
    }
   ],
   "source": [
    "non_poi_email_behavior = non_poi[['shared_receipt_with_poi','to_messages',\\\n",
    "                                  'from_messages','fraction_from_poi','fraction_to_poi']].describe()\n",
    "non_poi_email_behavior"
   ]
  },
  {
   "cell_type": "markdown",
   "metadata": {},
   "source": [
    "I thought it was interesting to see someone with 100% of their e-mails going to persons of interest.  Below, I printed out some features associated with this person.  After a little research, I found that Gene Humphrey was one of the first employees of Enron.  So, it makes sense that all of his e-mails were to persons of interest who had been with the company from the beginning.  Those were the only people he worked with."
   ]
  },
  {
   "cell_type": "code",
   "execution_count": 15,
   "metadata": {
    "collapsed": false
   },
   "outputs": [
    {
     "data": {
      "text/html": [
       "<div>\n",
       "<table border=\"1\" class=\"dataframe\">\n",
       "  <thead>\n",
       "    <tr style=\"text-align: right;\">\n",
       "      <th></th>\n",
       "      <th>name</th>\n",
       "      <th>salary</th>\n",
       "      <th>total_be</th>\n",
       "      <th>restricted_stock</th>\n",
       "      <th>total_stock_value</th>\n",
       "      <th>to_messages</th>\n",
       "      <th>poi</th>\n",
       "    </tr>\n",
       "  </thead>\n",
       "  <tbody>\n",
       "    <tr>\n",
       "      <th>10</th>\n",
       "      <td>HUMPHREY GENE E</td>\n",
       "      <td>130724.0</td>\n",
       "      <td>2282768.0</td>\n",
       "      <td>NaN</td>\n",
       "      <td>2282768.0</td>\n",
       "      <td>128.0</td>\n",
       "      <td>False</td>\n",
       "    </tr>\n",
       "  </tbody>\n",
       "</table>\n",
       "</div>"
      ],
      "text/plain": [
       "               name    salary   total_be  restricted_stock  total_stock_value  \\\n",
       "10  HUMPHREY GENE E  130724.0  2282768.0               NaN          2282768.0   \n",
       "\n",
       "    to_messages    poi  \n",
       "10        128.0  False  "
      ]
     },
     "execution_count": 15,
     "metadata": {},
     "output_type": "execute_result"
    }
   ],
   "source": [
    "enron[(enron['fraction_to_poi']>0.9)][['name','salary','total_be',\\\n",
    "                                       'restricted_stock','total_stock_value','to_messages','poi']]"
   ]
  },
  {
   "cell_type": "code",
   "execution_count": 16,
   "metadata": {
    "collapsed": false
   },
   "outputs": [
    {
     "data": {
      "text/html": [
       "<div>\n",
       "<table border=\"1\" class=\"dataframe\">\n",
       "  <thead>\n",
       "    <tr style=\"text-align: right;\">\n",
       "      <th></th>\n",
       "      <th>salary</th>\n",
       "      <th>bonus</th>\n",
       "      <th>exercised_stock_options</th>\n",
       "      <th>total_stock_value</th>\n",
       "      <th>total_payments</th>\n",
       "      <th>total_be</th>\n",
       "      <th>total_millions</th>\n",
       "    </tr>\n",
       "  </thead>\n",
       "  <tbody>\n",
       "    <tr>\n",
       "      <th>count</th>\n",
       "      <td>1.700000e+01</td>\n",
       "      <td>1.600000e+01</td>\n",
       "      <td>1.200000e+01</td>\n",
       "      <td>1.800000e+01</td>\n",
       "      <td>1.800000e+01</td>\n",
       "      <td>1.800000e+01</td>\n",
       "      <td>18.000000</td>\n",
       "    </tr>\n",
       "    <tr>\n",
       "      <th>mean</th>\n",
       "      <td>3.834449e+05</td>\n",
       "      <td>2.075000e+06</td>\n",
       "      <td>1.046379e+07</td>\n",
       "      <td>9.165671e+06</td>\n",
       "      <td>7.913590e+06</td>\n",
       "      <td>8.820307e+06</td>\n",
       "      <td>17.079261</td>\n",
       "    </tr>\n",
       "    <tr>\n",
       "      <th>std</th>\n",
       "      <td>2.783597e+05</td>\n",
       "      <td>2.047437e+06</td>\n",
       "      <td>1.238259e+07</td>\n",
       "      <td>1.384117e+07</td>\n",
       "      <td>2.396549e+07</td>\n",
       "      <td>1.222914e+07</td>\n",
       "      <td>35.289434</td>\n",
       "    </tr>\n",
       "    <tr>\n",
       "      <th>min</th>\n",
       "      <td>1.584030e+05</td>\n",
       "      <td>2.000000e+05</td>\n",
       "      <td>3.847280e+05</td>\n",
       "      <td>1.260270e+05</td>\n",
       "      <td>9.109300e+04</td>\n",
       "      <td>8.000000e+05</td>\n",
       "      <td>1.765324</td>\n",
       "    </tr>\n",
       "    <tr>\n",
       "      <th>25%</th>\n",
       "      <td>2.401890e+05</td>\n",
       "      <td>7.750000e+05</td>\n",
       "      <td>1.456581e+06</td>\n",
       "      <td>1.016450e+06</td>\n",
       "      <td>1.142396e+06</td>\n",
       "      <td>1.262500e+06</td>\n",
       "      <td>3.140359</td>\n",
       "    </tr>\n",
       "    <tr>\n",
       "      <th>50%</th>\n",
       "      <td>2.786010e+05</td>\n",
       "      <td>1.275000e+06</td>\n",
       "      <td>3.914557e+06</td>\n",
       "      <td>2.206836e+06</td>\n",
       "      <td>1.754028e+06</td>\n",
       "      <td>2.079817e+06</td>\n",
       "      <td>4.434161</td>\n",
       "    </tr>\n",
       "    <tr>\n",
       "      <th>75%</th>\n",
       "      <td>4.151890e+05</td>\n",
       "      <td>2.062500e+06</td>\n",
       "      <td>1.938604e+07</td>\n",
       "      <td>1.051133e+07</td>\n",
       "      <td>2.665345e+06</td>\n",
       "      <td>7.990914e+06</td>\n",
       "      <td>11.274354</td>\n",
       "    </tr>\n",
       "    <tr>\n",
       "      <th>max</th>\n",
       "      <td>1.111258e+06</td>\n",
       "      <td>7.000000e+06</td>\n",
       "      <td>3.434838e+07</td>\n",
       "      <td>4.911008e+07</td>\n",
       "      <td>1.035598e+08</td>\n",
       "      <td>4.134838e+07</td>\n",
       "      <td>152.669871</td>\n",
       "    </tr>\n",
       "  </tbody>\n",
       "</table>\n",
       "</div>"
      ],
      "text/plain": [
       "             salary         bonus  exercised_stock_options  total_stock_value  \\\n",
       "count  1.700000e+01  1.600000e+01             1.200000e+01       1.800000e+01   \n",
       "mean   3.834449e+05  2.075000e+06             1.046379e+07       9.165671e+06   \n",
       "std    2.783597e+05  2.047437e+06             1.238259e+07       1.384117e+07   \n",
       "min    1.584030e+05  2.000000e+05             3.847280e+05       1.260270e+05   \n",
       "25%    2.401890e+05  7.750000e+05             1.456581e+06       1.016450e+06   \n",
       "50%    2.786010e+05  1.275000e+06             3.914557e+06       2.206836e+06   \n",
       "75%    4.151890e+05  2.062500e+06             1.938604e+07       1.051133e+07   \n",
       "max    1.111258e+06  7.000000e+06             3.434838e+07       4.911008e+07   \n",
       "\n",
       "       total_payments      total_be  total_millions  \n",
       "count    1.800000e+01  1.800000e+01       18.000000  \n",
       "mean     7.913590e+06  8.820307e+06       17.079261  \n",
       "std      2.396549e+07  1.222914e+07       35.289434  \n",
       "min      9.109300e+04  8.000000e+05        1.765324  \n",
       "25%      1.142396e+06  1.262500e+06        3.140359  \n",
       "50%      1.754028e+06  2.079817e+06        4.434161  \n",
       "75%      2.665345e+06  7.990914e+06       11.274354  \n",
       "max      1.035598e+08  4.134838e+07      152.669871  "
      ]
     },
     "execution_count": 16,
     "metadata": {},
     "output_type": "execute_result"
    }
   ],
   "source": [
    "#POI stats\n",
    "\n",
    "poi_info = enron[enron.poi.isin([True])]\n",
    "\n",
    "poi_money = poi_info[['salary','bonus','exercised_stock_options','total_stock_value',\\\n",
    "                      'total_payments','total_be','total_millions']].describe()\n",
    "poi_money"
   ]
  },
  {
   "cell_type": "code",
   "execution_count": 17,
   "metadata": {
    "collapsed": false
   },
   "outputs": [
    {
     "data": {
      "text/html": [
       "<div>\n",
       "<table border=\"1\" class=\"dataframe\">\n",
       "  <thead>\n",
       "    <tr style=\"text-align: right;\">\n",
       "      <th></th>\n",
       "      <th>shared_receipt_with_poi</th>\n",
       "      <th>to_messages</th>\n",
       "      <th>from_messages</th>\n",
       "      <th>fraction_from_poi</th>\n",
       "      <th>fraction_to_poi</th>\n",
       "    </tr>\n",
       "  </thead>\n",
       "  <tbody>\n",
       "    <tr>\n",
       "      <th>count</th>\n",
       "      <td>14.000000</td>\n",
       "      <td>14.000000</td>\n",
       "      <td>14.000000</td>\n",
       "      <td>14.000000</td>\n",
       "      <td>14.000000</td>\n",
       "    </tr>\n",
       "    <tr>\n",
       "      <th>mean</th>\n",
       "      <td>1783.000000</td>\n",
       "      <td>2417.142857</td>\n",
       "      <td>300.357143</td>\n",
       "      <td>0.047507</td>\n",
       "      <td>0.345470</td>\n",
       "    </tr>\n",
       "    <tr>\n",
       "      <th>std</th>\n",
       "      <td>1264.996625</td>\n",
       "      <td>1961.858101</td>\n",
       "      <td>805.844574</td>\n",
       "      <td>0.032085</td>\n",
       "      <td>0.156894</td>\n",
       "    </tr>\n",
       "    <tr>\n",
       "      <th>min</th>\n",
       "      <td>91.000000</td>\n",
       "      <td>225.000000</td>\n",
       "      <td>16.000000</td>\n",
       "      <td>0.021339</td>\n",
       "      <td>0.173611</td>\n",
       "    </tr>\n",
       "    <tr>\n",
       "      <th>25%</th>\n",
       "      <td>1059.250000</td>\n",
       "      <td>1115.750000</td>\n",
       "      <td>33.000000</td>\n",
       "      <td>0.026900</td>\n",
       "      <td>0.228580</td>\n",
       "    </tr>\n",
       "    <tr>\n",
       "      <th>50%</th>\n",
       "      <td>1589.000000</td>\n",
       "      <td>1875.000000</td>\n",
       "      <td>44.500000</td>\n",
       "      <td>0.030639</td>\n",
       "      <td>0.276389</td>\n",
       "    </tr>\n",
       "    <tr>\n",
       "      <th>75%</th>\n",
       "      <td>2165.250000</td>\n",
       "      <td>2969.250000</td>\n",
       "      <td>101.500000</td>\n",
       "      <td>0.059118</td>\n",
       "      <td>0.427083</td>\n",
       "    </tr>\n",
       "    <tr>\n",
       "      <th>max</th>\n",
       "      <td>5521.000000</td>\n",
       "      <td>7991.000000</td>\n",
       "      <td>3069.000000</td>\n",
       "      <td>0.136519</td>\n",
       "      <td>0.656250</td>\n",
       "    </tr>\n",
       "  </tbody>\n",
       "</table>\n",
       "</div>"
      ],
      "text/plain": [
       "       shared_receipt_with_poi  to_messages  from_messages  fraction_from_poi  \\\n",
       "count                14.000000    14.000000      14.000000          14.000000   \n",
       "mean               1783.000000  2417.142857     300.357143           0.047507   \n",
       "std                1264.996625  1961.858101     805.844574           0.032085   \n",
       "min                  91.000000   225.000000      16.000000           0.021339   \n",
       "25%                1059.250000  1115.750000      33.000000           0.026900   \n",
       "50%                1589.000000  1875.000000      44.500000           0.030639   \n",
       "75%                2165.250000  2969.250000     101.500000           0.059118   \n",
       "max                5521.000000  7991.000000    3069.000000           0.136519   \n",
       "\n",
       "       fraction_to_poi  \n",
       "count        14.000000  \n",
       "mean          0.345470  \n",
       "std           0.156894  \n",
       "min           0.173611  \n",
       "25%           0.228580  \n",
       "50%           0.276389  \n",
       "75%           0.427083  \n",
       "max           0.656250  "
      ]
     },
     "execution_count": 17,
     "metadata": {},
     "output_type": "execute_result"
    }
   ],
   "source": [
    "poi_email_behavior = poi_info[['shared_receipt_with_poi','to_messages', \\\n",
    "                               'from_messages','fraction_from_poi','fraction_to_poi']].describe()\n",
    "poi_email_behavior"
   ]
  },
  {
   "cell_type": "code",
   "execution_count": 18,
   "metadata": {
    "collapsed": false
   },
   "outputs": [
    {
     "data": {
      "text/html": [
       "<div>\n",
       "<table border=\"1\" class=\"dataframe\">\n",
       "  <thead>\n",
       "    <tr style=\"text-align: right;\">\n",
       "      <th></th>\n",
       "      <th>salary</th>\n",
       "      <th>bonus</th>\n",
       "      <th>exercised_stock_options</th>\n",
       "      <th>total_stock_value</th>\n",
       "      <th>total_payments</th>\n",
       "      <th>total_be</th>\n",
       "      <th>total_millions</th>\n",
       "    </tr>\n",
       "  </thead>\n",
       "  <tbody>\n",
       "    <tr>\n",
       "      <th>count</th>\n",
       "      <td>-60.000000</td>\n",
       "      <td>-4.900000e+01</td>\n",
       "      <td>-7.700000e+01</td>\n",
       "      <td>-8.900000e+01</td>\n",
       "      <td>-8.800000e+01</td>\n",
       "      <td>-1.090000e+02</td>\n",
       "      <td>-109.000000</td>\n",
       "    </tr>\n",
       "    <tr>\n",
       "      <th>mean</th>\n",
       "      <td>121293.375859</td>\n",
       "      <td>1.088175e+06</td>\n",
       "      <td>8.516041e+06</td>\n",
       "      <td>6.791586e+06</td>\n",
       "      <td>6.188499e+06</td>\n",
       "      <td>6.950279e+06</td>\n",
       "      <td>13.639208</td>\n",
       "    </tr>\n",
       "    <tr>\n",
       "      <th>std</th>\n",
       "      <td>139128.027285</td>\n",
       "      <td>8.735576e+05</td>\n",
       "      <td>9.835520e+06</td>\n",
       "      <td>1.030615e+07</td>\n",
       "      <td>2.134720e+07</td>\n",
       "      <td>9.535142e+06</td>\n",
       "      <td>30.449457</td>\n",
       "    </tr>\n",
       "    <tr>\n",
       "      <th>min</th>\n",
       "      <td>157926.000000</td>\n",
       "      <td>1.300000e+05</td>\n",
       "      <td>3.814430e+05</td>\n",
       "      <td>1.701200e+05</td>\n",
       "      <td>9.094500e+04</td>\n",
       "      <td>8.000000e+05</td>\n",
       "      <td>1.765324</td>\n",
       "    </tr>\n",
       "    <tr>\n",
       "      <th>25%</th>\n",
       "      <td>34068.000000</td>\n",
       "      <td>3.750000e+05</td>\n",
       "      <td>1.020066e+06</td>\n",
       "      <td>5.917658e+05</td>\n",
       "      <td>8.119162e+05</td>\n",
       "      <td>1.041121e+06</td>\n",
       "      <td>2.632424</td>\n",
       "    </tr>\n",
       "    <tr>\n",
       "      <th>50%</th>\n",
       "      <td>26947.000000</td>\n",
       "      <td>5.750000e+05</td>\n",
       "      <td>2.884228e+06</td>\n",
       "      <td>1.176506e+06</td>\n",
       "      <td>6.979350e+05</td>\n",
       "      <td>1.193586e+06</td>\n",
       "      <td>2.549413</td>\n",
       "    </tr>\n",
       "    <tr>\n",
       "      <th>75%</th>\n",
       "      <td>126600.000000</td>\n",
       "      <td>1.062500e+06</td>\n",
       "      <td>1.722087e+07</td>\n",
       "      <td>8.203751e+06</td>\n",
       "      <td>6.593195e+05</td>\n",
       "      <td>5.740393e+06</td>\n",
       "      <td>6.957028</td>\n",
       "    </tr>\n",
       "    <tr>\n",
       "      <th>max</th>\n",
       "      <td>50326.000000</td>\n",
       "      <td>-1.000000e+06</td>\n",
       "      <td>1.898422e+07</td>\n",
       "      <td>2.529215e+07</td>\n",
       "      <td>8.630726e+07</td>\n",
       "      <td>2.498422e+07</td>\n",
       "      <td>120.795156</td>\n",
       "    </tr>\n",
       "  </tbody>\n",
       "</table>\n",
       "</div>"
      ],
      "text/plain": [
       "              salary         bonus  exercised_stock_options  \\\n",
       "count     -60.000000 -4.900000e+01            -7.700000e+01   \n",
       "mean   121293.375859  1.088175e+06             8.516041e+06   \n",
       "std    139128.027285  8.735576e+05             9.835520e+06   \n",
       "min    157926.000000  1.300000e+05             3.814430e+05   \n",
       "25%     34068.000000  3.750000e+05             1.020066e+06   \n",
       "50%     26947.000000  5.750000e+05             2.884228e+06   \n",
       "75%    126600.000000  1.062500e+06             1.722087e+07   \n",
       "max     50326.000000 -1.000000e+06             1.898422e+07   \n",
       "\n",
       "       total_stock_value  total_payments      total_be  total_millions  \n",
       "count      -8.900000e+01   -8.800000e+01 -1.090000e+02     -109.000000  \n",
       "mean        6.791586e+06    6.188499e+06  6.950279e+06       13.639208  \n",
       "std         1.030615e+07    2.134720e+07  9.535142e+06       30.449457  \n",
       "min         1.701200e+05    9.094500e+04  8.000000e+05        1.765324  \n",
       "25%         5.917658e+05    8.119162e+05  1.041121e+06        2.632424  \n",
       "50%         1.176506e+06    6.979350e+05  1.193586e+06        2.549413  \n",
       "75%         8.203751e+06    6.593195e+05  5.740393e+06        6.957028  \n",
       "max         2.529215e+07    8.630726e+07  2.498422e+07      120.795156  "
      ]
     },
     "execution_count": 18,
     "metadata": {},
     "output_type": "execute_result"
    }
   ],
   "source": [
    "#difference in non-poi compensation and poi compensation\n",
    "\n",
    "difference_in_money = poi_money - non_poi_money\n",
    "difference_in_money"
   ]
  },
  {
   "cell_type": "markdown",
   "metadata": {},
   "source": [
    "We can see from the table above that money matters!  The mean difference is especially telling.  And, although upper management tends to have greater compensation, you can't help but be shocked by the tremendous gap seen here."
   ]
  },
  {
   "cell_type": "code",
   "execution_count": 19,
   "metadata": {
    "collapsed": false
   },
   "outputs": [
    {
     "data": {
      "text/html": [
       "<div>\n",
       "<table border=\"1\" class=\"dataframe\">\n",
       "  <thead>\n",
       "    <tr style=\"text-align: right;\">\n",
       "      <th></th>\n",
       "      <th>shared_receipt_with_poi</th>\n",
       "      <th>to_messages</th>\n",
       "      <th>from_messages</th>\n",
       "      <th>fraction_from_poi</th>\n",
       "      <th>fraction_to_poi</th>\n",
       "    </tr>\n",
       "  </thead>\n",
       "  <tbody>\n",
       "    <tr>\n",
       "      <th>count</th>\n",
       "      <td>-58.000000</td>\n",
       "      <td>-58.000000</td>\n",
       "      <td>-58.000000</td>\n",
       "      <td>-58.000000</td>\n",
       "      <td>-58.000000</td>\n",
       "    </tr>\n",
       "    <tr>\n",
       "      <th>mean</th>\n",
       "      <td>724.472222</td>\n",
       "      <td>410.031746</td>\n",
       "      <td>-368.406746</td>\n",
       "      <td>0.011399</td>\n",
       "      <td>0.192800</td>\n",
       "    </tr>\n",
       "    <tr>\n",
       "      <th>std</th>\n",
       "      <td>132.492868</td>\n",
       "      <td>-731.307854</td>\n",
       "      <td>-1173.153226</td>\n",
       "      <td>-0.009844</td>\n",
       "      <td>-0.049163</td>\n",
       "    </tr>\n",
       "    <tr>\n",
       "      <th>min</th>\n",
       "      <td>89.000000</td>\n",
       "      <td>168.000000</td>\n",
       "      <td>4.000000</td>\n",
       "      <td>0.021339</td>\n",
       "      <td>0.173611</td>\n",
       "    </tr>\n",
       "    <tr>\n",
       "      <th>25%</th>\n",
       "      <td>867.750000</td>\n",
       "      <td>602.000000</td>\n",
       "      <td>12.500000</td>\n",
       "      <td>0.019140</td>\n",
       "      <td>0.228580</td>\n",
       "    </tr>\n",
       "    <tr>\n",
       "      <th>50%</th>\n",
       "      <td>995.000000</td>\n",
       "      <td>931.000000</td>\n",
       "      <td>3.500000</td>\n",
       "      <td>0.007898</td>\n",
       "      <td>0.222613</td>\n",
       "    </tr>\n",
       "    <tr>\n",
       "      <th>75%</th>\n",
       "      <td>529.750000</td>\n",
       "      <td>378.500000</td>\n",
       "      <td>-115.000000</td>\n",
       "      <td>0.008413</td>\n",
       "      <td>0.202083</td>\n",
       "    </tr>\n",
       "    <tr>\n",
       "      <th>max</th>\n",
       "      <td>994.000000</td>\n",
       "      <td>-7158.000000</td>\n",
       "      <td>-11299.000000</td>\n",
       "      <td>-0.080822</td>\n",
       "      <td>-0.343750</td>\n",
       "    </tr>\n",
       "  </tbody>\n",
       "</table>\n",
       "</div>"
      ],
      "text/plain": [
       "       shared_receipt_with_poi  to_messages  from_messages  fraction_from_poi  \\\n",
       "count               -58.000000   -58.000000     -58.000000         -58.000000   \n",
       "mean                724.472222   410.031746    -368.406746           0.011399   \n",
       "std                 132.492868  -731.307854   -1173.153226          -0.009844   \n",
       "min                  89.000000   168.000000       4.000000           0.021339   \n",
       "25%                 867.750000   602.000000      12.500000           0.019140   \n",
       "50%                 995.000000   931.000000       3.500000           0.007898   \n",
       "75%                 529.750000   378.500000    -115.000000           0.008413   \n",
       "max                 994.000000 -7158.000000  -11299.000000          -0.080822   \n",
       "\n",
       "       fraction_to_poi  \n",
       "count       -58.000000  \n",
       "mean          0.192800  \n",
       "std          -0.049163  \n",
       "min           0.173611  \n",
       "25%           0.228580  \n",
       "50%           0.222613  \n",
       "75%           0.202083  \n",
       "max          -0.343750  "
      ]
     },
     "execution_count": 19,
     "metadata": {},
     "output_type": "execute_result"
    }
   ],
   "source": [
    "#difference in non-poi email behavior and poi behavior\n",
    "\n",
    "difference_in_email = poi_email_behavior - non_poi_email_behavior\n",
    "difference_in_email"
   ]
  },
  {
   "cell_type": "markdown",
   "metadata": {},
   "source": [
    "My original email behavior table was a bit less telling than the money table, but I was able to scale features to reflect e-mail behavior more accurately.  The updated tables can be seen above with the fraction of emails sent to and from POIs."
   ]
  },
  {
   "cell_type": "code",
   "execution_count": 20,
   "metadata": {
    "collapsed": false
   },
   "outputs": [
    {
     "data": {
      "text/html": [
       "<div>\n",
       "<table border=\"1\" class=\"dataframe\">\n",
       "  <thead>\n",
       "    <tr style=\"text-align: right;\">\n",
       "      <th></th>\n",
       "      <th>name</th>\n",
       "      <th>salary</th>\n",
       "      <th>bonus</th>\n",
       "      <th>exercised_stock_options</th>\n",
       "      <th>total_be</th>\n",
       "      <th>total_millions</th>\n",
       "      <th>from_messages</th>\n",
       "      <th>fraction_to_poi</th>\n",
       "    </tr>\n",
       "  </thead>\n",
       "  <tbody>\n",
       "    <tr>\n",
       "      <th>65</th>\n",
       "      <td>LAY KENNETH L</td>\n",
       "      <td>1072321.0</td>\n",
       "      <td>7000000.0</td>\n",
       "      <td>34348384.0</td>\n",
       "      <td>41348384.0</td>\n",
       "      <td>152.669871</td>\n",
       "      <td>36.0</td>\n",
       "      <td>0.444444</td>\n",
       "    </tr>\n",
       "    <tr>\n",
       "      <th>95</th>\n",
       "      <td>SKILLING JEFFREY K</td>\n",
       "      <td>1111258.0</td>\n",
       "      <td>5600000.0</td>\n",
       "      <td>19250000.0</td>\n",
       "      <td>24850000.0</td>\n",
       "      <td>34.776388</td>\n",
       "      <td>108.0</td>\n",
       "      <td>0.277778</td>\n",
       "    </tr>\n",
       "    <tr>\n",
       "      <th>125</th>\n",
       "      <td>HIRKO JOSEPH</td>\n",
       "      <td>NaN</td>\n",
       "      <td>NaN</td>\n",
       "      <td>30766064.0</td>\n",
       "      <td>30766064.0</td>\n",
       "      <td>30.857157</td>\n",
       "      <td>NaN</td>\n",
       "      <td>NaN</td>\n",
       "    </tr>\n",
       "    <tr>\n",
       "      <th>88</th>\n",
       "      <td>RICE KENNETH D</td>\n",
       "      <td>420636.0</td>\n",
       "      <td>1750000.0</td>\n",
       "      <td>19794175.0</td>\n",
       "      <td>21544175.0</td>\n",
       "      <td>23.047589</td>\n",
       "      <td>18.0</td>\n",
       "      <td>0.222222</td>\n",
       "    </tr>\n",
       "    <tr>\n",
       "      <th>124</th>\n",
       "      <td>YEAGER F SCOTT</td>\n",
       "      <td>158403.0</td>\n",
       "      <td>NaN</td>\n",
       "      <td>8308552.0</td>\n",
       "      <td>8308552.0</td>\n",
       "      <td>12.245058</td>\n",
       "      <td>NaN</td>\n",
       "      <td>NaN</td>\n",
       "    </tr>\n",
       "    <tr>\n",
       "      <th>60</th>\n",
       "      <td>DELAINEY DAVID W</td>\n",
       "      <td>365163.0</td>\n",
       "      <td>3000000.0</td>\n",
       "      <td>2291113.0</td>\n",
       "      <td>5291113.0</td>\n",
       "      <td>8.362240</td>\n",
       "      <td>3069.0</td>\n",
       "      <td>0.198436</td>\n",
       "    </tr>\n",
       "    <tr>\n",
       "      <th>4</th>\n",
       "      <td>HANNON KEVIN P</td>\n",
       "      <td>243293.0</td>\n",
       "      <td>1500000.0</td>\n",
       "      <td>5538001.0</td>\n",
       "      <td>7038001.0</td>\n",
       "      <td>6.679747</td>\n",
       "      <td>32.0</td>\n",
       "      <td>0.656250</td>\n",
       "    </tr>\n",
       "    <tr>\n",
       "      <th>82</th>\n",
       "      <td>BELDEN TIMOTHY N</td>\n",
       "      <td>213999.0</td>\n",
       "      <td>5249999.0</td>\n",
       "      <td>953136.0</td>\n",
       "      <td>6203135.0</td>\n",
       "      <td>6.612335</td>\n",
       "      <td>484.0</td>\n",
       "      <td>0.223140</td>\n",
       "    </tr>\n",
       "    <tr>\n",
       "      <th>53</th>\n",
       "      <td>SHELBY REX</td>\n",
       "      <td>211844.0</td>\n",
       "      <td>200000.0</td>\n",
       "      <td>1624396.0</td>\n",
       "      <td>1824396.0</td>\n",
       "      <td>4.497501</td>\n",
       "      <td>39.0</td>\n",
       "      <td>0.358974</td>\n",
       "    </tr>\n",
       "    <tr>\n",
       "      <th>141</th>\n",
       "      <td>CAUSEY RICHARD A</td>\n",
       "      <td>415189.0</td>\n",
       "      <td>1000000.0</td>\n",
       "      <td>NaN</td>\n",
       "      <td>1000000.0</td>\n",
       "      <td>4.370821</td>\n",
       "      <td>49.0</td>\n",
       "      <td>0.244898</td>\n",
       "    </tr>\n",
       "    <tr>\n",
       "      <th>85</th>\n",
       "      <td>FASTOW ANDREW S</td>\n",
       "      <td>440698.0</td>\n",
       "      <td>1300000.0</td>\n",
       "      <td>NaN</td>\n",
       "      <td>1300000.0</td>\n",
       "      <td>4.218495</td>\n",
       "      <td>NaN</td>\n",
       "      <td>NaN</td>\n",
       "    </tr>\n",
       "    <tr>\n",
       "      <th>41</th>\n",
       "      <td>KOPPER MICHAEL J</td>\n",
       "      <td>224305.0</td>\n",
       "      <td>800000.0</td>\n",
       "      <td>NaN</td>\n",
       "      <td>800000.0</td>\n",
       "      <td>3.637644</td>\n",
       "      <td>NaN</td>\n",
       "      <td>NaN</td>\n",
       "    </tr>\n",
       "    <tr>\n",
       "      <th>134</th>\n",
       "      <td>KOENIG MARK E</td>\n",
       "      <td>309946.0</td>\n",
       "      <td>700000.0</td>\n",
       "      <td>671737.0</td>\n",
       "      <td>1371737.0</td>\n",
       "      <td>3.507476</td>\n",
       "      <td>61.0</td>\n",
       "      <td>0.245902</td>\n",
       "    </tr>\n",
       "    <tr>\n",
       "      <th>30</th>\n",
       "      <td>RIEKER PAULA H</td>\n",
       "      <td>249201.0</td>\n",
       "      <td>700000.0</td>\n",
       "      <td>1635238.0</td>\n",
       "      <td>2335238.0</td>\n",
       "      <td>3.017987</td>\n",
       "      <td>82.0</td>\n",
       "      <td>0.585366</td>\n",
       "    </tr>\n",
       "    <tr>\n",
       "      <th>76</th>\n",
       "      <td>BOWEN JR RAYMOND M</td>\n",
       "      <td>278601.0</td>\n",
       "      <td>1350000.0</td>\n",
       "      <td>NaN</td>\n",
       "      <td>1350000.0</td>\n",
       "      <td>2.921644</td>\n",
       "      <td>27.0</td>\n",
       "      <td>0.555556</td>\n",
       "    </tr>\n",
       "    <tr>\n",
       "      <th>16</th>\n",
       "      <td>COLWELL WESLEY</td>\n",
       "      <td>288542.0</td>\n",
       "      <td>1200000.0</td>\n",
       "      <td>NaN</td>\n",
       "      <td>1200000.0</td>\n",
       "      <td>2.188586</td>\n",
       "      <td>40.0</td>\n",
       "      <td>0.275000</td>\n",
       "    </tr>\n",
       "    <tr>\n",
       "      <th>144</th>\n",
       "      <td>GLISAN JR BEN F</td>\n",
       "      <td>274975.0</td>\n",
       "      <td>600000.0</td>\n",
       "      <td>384728.0</td>\n",
       "      <td>984728.0</td>\n",
       "      <td>2.050830</td>\n",
       "      <td>16.0</td>\n",
       "      <td>0.375000</td>\n",
       "    </tr>\n",
       "    <tr>\n",
       "      <th>87</th>\n",
       "      <td>CALGER CHRISTOPHER F</td>\n",
       "      <td>240189.0</td>\n",
       "      <td>1250000.0</td>\n",
       "      <td>NaN</td>\n",
       "      <td>1250000.0</td>\n",
       "      <td>1.765324</td>\n",
       "      <td>144.0</td>\n",
       "      <td>0.173611</td>\n",
       "    </tr>\n",
       "  </tbody>\n",
       "</table>\n",
       "</div>"
      ],
      "text/plain": [
       "                     name     salary      bonus  exercised_stock_options  \\\n",
       "65          LAY KENNETH L  1072321.0  7000000.0               34348384.0   \n",
       "95     SKILLING JEFFREY K  1111258.0  5600000.0               19250000.0   \n",
       "125          HIRKO JOSEPH        NaN        NaN               30766064.0   \n",
       "88         RICE KENNETH D   420636.0  1750000.0               19794175.0   \n",
       "124        YEAGER F SCOTT   158403.0        NaN                8308552.0   \n",
       "60       DELAINEY DAVID W   365163.0  3000000.0                2291113.0   \n",
       "4          HANNON KEVIN P   243293.0  1500000.0                5538001.0   \n",
       "82       BELDEN TIMOTHY N   213999.0  5249999.0                 953136.0   \n",
       "53             SHELBY REX   211844.0   200000.0                1624396.0   \n",
       "141      CAUSEY RICHARD A   415189.0  1000000.0                      NaN   \n",
       "85        FASTOW ANDREW S   440698.0  1300000.0                      NaN   \n",
       "41       KOPPER MICHAEL J   224305.0   800000.0                      NaN   \n",
       "134         KOENIG MARK E   309946.0   700000.0                 671737.0   \n",
       "30         RIEKER PAULA H   249201.0   700000.0                1635238.0   \n",
       "76     BOWEN JR RAYMOND M   278601.0  1350000.0                      NaN   \n",
       "16         COLWELL WESLEY   288542.0  1200000.0                      NaN   \n",
       "144       GLISAN JR BEN F   274975.0   600000.0                 384728.0   \n",
       "87   CALGER CHRISTOPHER F   240189.0  1250000.0                      NaN   \n",
       "\n",
       "       total_be  total_millions  from_messages  fraction_to_poi  \n",
       "65   41348384.0      152.669871           36.0         0.444444  \n",
       "95   24850000.0       34.776388          108.0         0.277778  \n",
       "125  30766064.0       30.857157            NaN              NaN  \n",
       "88   21544175.0       23.047589           18.0         0.222222  \n",
       "124   8308552.0       12.245058            NaN              NaN  \n",
       "60    5291113.0        8.362240         3069.0         0.198436  \n",
       "4     7038001.0        6.679747           32.0         0.656250  \n",
       "82    6203135.0        6.612335          484.0         0.223140  \n",
       "53    1824396.0        4.497501           39.0         0.358974  \n",
       "141   1000000.0        4.370821           49.0         0.244898  \n",
       "85    1300000.0        4.218495            NaN              NaN  \n",
       "41     800000.0        3.637644            NaN              NaN  \n",
       "134   1371737.0        3.507476           61.0         0.245902  \n",
       "30    2335238.0        3.017987           82.0         0.585366  \n",
       "76    1350000.0        2.921644           27.0         0.555556  \n",
       "16    1200000.0        2.188586           40.0         0.275000  \n",
       "144    984728.0        2.050830           16.0         0.375000  \n",
       "87    1250000.0        1.765324          144.0         0.173611  "
      ]
     },
     "execution_count": 20,
     "metadata": {},
     "output_type": "execute_result"
    }
   ],
   "source": [
    "#poi name, salary, bonus, stock options, total bonus and options, from messages, and fraction to poi, ordered by total descending\n",
    "\n",
    "poi_info[['name','salary','bonus','exercised_stock_options','total_be','total_millions',\\\n",
    "          'from_messages','fraction_to_poi']].sort_values('total_millions',ascending=False)"
   ]
  },
  {
   "cell_type": "markdown",
   "metadata": {},
   "source": [
    "Although we don't have the salary and bonus data for Joseph Hirko, his exercised stock options is second to Kenneth Lay.  Since \"exercised_stock_options\" seems to be a key indicator of a POI when salary/bonus is unavailable, that is definitely a feature we'll want to include in our final feature selection.  These features may be even more robust when taking the total of bonus and options.  In fact, let's add the feature, total_be, to our dataset and maybe it will come in handy.  *I went back and added this feature to the top of my code in order to include it in the info and analysis.*\n",
    "<br>\n",
    "Also, it was interesting to see that POIs don't have as many \"from_messages\" as non-POIs.  David Delainey is the only one that has well over 500 emails from him.  This may be a telling behavior of POIs, as they may prefer to talk face-to-face with others.\n",
    "<br>\n",
    "[Top](#top)"
   ]
  },
  {
   "cell_type": "markdown",
   "metadata": {},
   "source": [
    "<a id='Features'></a>\n",
    "\n",
    "## Explore Features\n",
    "\n",
    "In this section, we'll visualize some of our features in order to explore them further."
   ]
  },
  {
   "cell_type": "code",
   "execution_count": 21,
   "metadata": {
    "collapsed": false
   },
   "outputs": [
    {
     "name": "stdout",
     "output_type": "stream",
     "text": [
      "Populating the interactive namespace from numpy and matplotlib\n"
     ]
    }
   ],
   "source": [
    "import matplotlib.pyplot as plt\n",
    "%matplotlib inline\n",
    "%pylab inline\n",
    "import seaborn as sns"
   ]
  },
  {
   "cell_type": "markdown",
   "metadata": {},
   "source": [
    "<a id='Salary'></a>\n",
    "\n",
    "### Salary"
   ]
  },
  {
   "cell_type": "code",
   "execution_count": 22,
   "metadata": {
    "collapsed": false
   },
   "outputs": [
    {
     "data": {
      "text/plain": [
       "poi\n",
       "False    262151.506494\n",
       "True     383444.882353\n",
       "Name: salary, dtype: float64"
      ]
     },
     "execution_count": 22,
     "metadata": {},
     "output_type": "execute_result"
    }
   ],
   "source": [
    "average_salary = enron.groupby('poi').mean()['salary']\n",
    "average_salary"
   ]
  },
  {
   "cell_type": "code",
   "execution_count": 23,
   "metadata": {
    "collapsed": false
   },
   "outputs": [
    {
     "data": {
      "text/plain": [
       "<matplotlib.axes._subplots.AxesSubplot at 0xd353a20>"
      ]
     },
     "execution_count": 23,
     "metadata": {},
     "output_type": "execute_result"
    },
    {
     "data": {
      "image/png": "[encoded data removed]",
      "text/plain": [
       "<matplotlib.figure.Figure at 0xd33ffd0>"
      ]
     },
     "metadata": {},
     "output_type": "display_data"
    }
   ],
   "source": [
    "sns.boxplot(x='poi',y='salary',data=enron)"
   ]
  },
  {
   "cell_type": "markdown",
   "metadata": {},
   "source": [
    "<a id='Bonus'></a>\n",
    "\n",
    "### Bonus"
   ]
  },
  {
   "cell_type": "code",
   "execution_count": 24,
   "metadata": {
    "collapsed": false
   },
   "outputs": [
    {
     "data": {
      "text/plain": [
       "poi\n",
       "False    9.868249e+05\n",
       "True     2.075000e+06\n",
       "Name: bonus, dtype: float64"
      ]
     },
     "execution_count": 24,
     "metadata": {},
     "output_type": "execute_result"
    }
   ],
   "source": [
    "average_bonus = enron.groupby('poi').mean()['bonus']\n",
    "average_bonus"
   ]
  },
  {
   "cell_type": "code",
   "execution_count": 25,
   "metadata": {
    "collapsed": false
   },
   "outputs": [
    {
     "data": {
      "text/plain": [
       "<matplotlib.axes._subplots.AxesSubplot at 0xe0ac860>"
      ]
     },
     "execution_count": 25,
     "metadata": {},
     "output_type": "execute_result"
    },
    {
     "data": {
      "image/png": "[encoded data removed]",
      "text/plain": [
       "<matplotlib.figure.Figure at 0xd45b828>"
      ]
     },
     "metadata": {},
     "output_type": "display_data"
    }
   ],
   "source": [
    "sns.boxplot(x='poi',y='bonus',data=enron)"
   ]
  },
  {
   "cell_type": "markdown",
   "metadata": {},
   "source": [
    "Wow!  An 8 million dollar bonus seems a bit much, but you can see the difference between John and Ken in other ways.  Below, you can see the difference between all other financial features is significant.  And, bonuses among POIs are still higher on average than non-POIs.  So, despite our non-POI outlier, this feature may still be useful in training our algorithm."
   ]
  },
  {
   "cell_type": "code",
   "execution_count": 26,
   "metadata": {
    "collapsed": false
   },
   "outputs": [
    {
     "data": {
      "text/html": [
       "<div>\n",
       "<table border=\"1\" class=\"dataframe\">\n",
       "  <thead>\n",
       "    <tr style=\"text-align: right;\">\n",
       "      <th></th>\n",
       "      <th>name</th>\n",
       "      <th>salary</th>\n",
       "      <th>bonus</th>\n",
       "      <th>exercised_stock_options</th>\n",
       "      <th>restricted_stock</th>\n",
       "      <th>total_stock_value</th>\n",
       "      <th>poi</th>\n",
       "    </tr>\n",
       "  </thead>\n",
       "  <tbody>\n",
       "    <tr>\n",
       "      <th>43</th>\n",
       "      <td>LAVORATO JOHN J</td>\n",
       "      <td>339288.0</td>\n",
       "      <td>8000000.0</td>\n",
       "      <td>4158995.0</td>\n",
       "      <td>1008149.0</td>\n",
       "      <td>5167144.0</td>\n",
       "      <td>False</td>\n",
       "    </tr>\n",
       "    <tr>\n",
       "      <th>65</th>\n",
       "      <td>LAY KENNETH L</td>\n",
       "      <td>1072321.0</td>\n",
       "      <td>7000000.0</td>\n",
       "      <td>34348384.0</td>\n",
       "      <td>14761694.0</td>\n",
       "      <td>49110078.0</td>\n",
       "      <td>True</td>\n",
       "    </tr>\n",
       "  </tbody>\n",
       "</table>\n",
       "</div>"
      ],
      "text/plain": [
       "               name     salary      bonus  exercised_stock_options  \\\n",
       "43  LAVORATO JOHN J   339288.0  8000000.0                4158995.0   \n",
       "65    LAY KENNETH L  1072321.0  7000000.0               34348384.0   \n",
       "\n",
       "    restricted_stock  total_stock_value    poi  \n",
       "43         1008149.0          5167144.0  False  \n",
       "65        14761694.0         49110078.0   True  "
      ]
     },
     "execution_count": 26,
     "metadata": {},
     "output_type": "execute_result"
    }
   ],
   "source": [
    "enron[(enron['bonus']>6000000)][['name','salary','bonus','exercised_stock_options','restricted_stock','total_stock_value','poi']]"
   ]
  },
  {
   "cell_type": "markdown",
   "metadata": {},
   "source": [
    "<a id='Total Payments'></a>\n",
    "\n",
    "### Total Payments"
   ]
  },
  {
   "cell_type": "code",
   "execution_count": 27,
   "metadata": {
    "collapsed": false
   },
   "outputs": [
    {
     "data": {
      "text/plain": [
       "poi\n",
       "False    1.725091e+06\n",
       "True     7.913590e+06\n",
       "Name: total_payments, dtype: float64"
      ]
     },
     "execution_count": 27,
     "metadata": {},
     "output_type": "execute_result"
    }
   ],
   "source": [
    "average_total_payments = enron.groupby('poi').mean()['total_payments']\n",
    "average_total_payments"
   ]
  },
  {
   "cell_type": "code",
   "execution_count": 28,
   "metadata": {
    "collapsed": false
   },
   "outputs": [
    {
     "data": {
      "text/plain": [
       "<matplotlib.axes._subplots.AxesSubplot at 0xe2289e8>"
      ]
     },
     "execution_count": 28,
     "metadata": {},
     "output_type": "execute_result"
    },
    {
     "data": {
      "image/png": "[encoded data removed]",
      "text/plain": [
       "<matplotlib.figure.Figure at 0xe21eac8>"
      ]
     },
     "metadata": {},
     "output_type": "display_data"
    }
   ],
   "source": [
    "sns.boxplot(x='poi',y='total_payments',data=enron)"
   ]
  },
  {
   "cell_type": "markdown",
   "metadata": {},
   "source": [
    "Wow!  That last boxplot has an outlier that is obviously pulling the mean waaaaaaaay up.  Who is that?"
   ]
  },
  {
   "cell_type": "code",
   "execution_count": 29,
   "metadata": {
    "collapsed": false
   },
   "outputs": [
    {
     "data": {
      "text/html": [
       "<div>\n",
       "<table border=\"1\" class=\"dataframe\">\n",
       "  <thead>\n",
       "    <tr style=\"text-align: right;\">\n",
       "      <th></th>\n",
       "      <th>name</th>\n",
       "      <th>total_payments</th>\n",
       "      <th>poi</th>\n",
       "    </tr>\n",
       "  </thead>\n",
       "  <tbody>\n",
       "    <tr>\n",
       "      <th>65</th>\n",
       "      <td>LAY KENNETH L</td>\n",
       "      <td>103559793.0</td>\n",
       "      <td>True</td>\n",
       "    </tr>\n",
       "  </tbody>\n",
       "</table>\n",
       "</div>"
      ],
      "text/plain": [
       "             name  total_payments   poi\n",
       "65  LAY KENNETH L     103559793.0  True"
      ]
     },
     "execution_count": 29,
     "metadata": {},
     "output_type": "execute_result"
    }
   ],
   "source": [
    "enron[(enron['total_payments']>40000000)][['name','total_payments','poi']]"
   ]
  },
  {
   "cell_type": "code",
   "execution_count": 30,
   "metadata": {
    "collapsed": false
   },
   "outputs": [
    {
     "data": {
      "text/plain": [
       "<matplotlib.axes._subplots.AxesSubplot at 0xe3e44e0>"
      ]
     },
     "execution_count": 30,
     "metadata": {},
     "output_type": "execute_result"
    },
    {
     "data": {
      "image/png": "[encoded data removed]",
      "text/plain": [
       "<matplotlib.figure.Figure at 0xe0ac6d8>"
      ]
     },
     "metadata": {},
     "output_type": "display_data"
    }
   ],
   "source": [
    "#take Ken Lay out of the poi boxplot\n",
    "\n",
    "kl_not_in = enron[(enron['total_payments']<40000000)]\n",
    "\n",
    "sns.boxplot(x='poi',y='total_payments',data=kl_not_in)"
   ]
  },
  {
   "cell_type": "markdown",
   "metadata": {},
   "source": [
    "Well, at least now we can see the boxplots more clearly.  There's not much of a difference between POI and non-POI here when we take Ken Lay out, so total_payments probably won't be a feature we'll use."
   ]
  },
  {
   "cell_type": "markdown",
   "metadata": {},
   "source": [
    "<a id='Stock Options'></a>\n",
    "\n",
    "### Exercised Stock Options"
   ]
  },
  {
   "cell_type": "code",
   "execution_count": 31,
   "metadata": {
    "collapsed": false
   },
   "outputs": [
    {
     "data": {
      "text/plain": [
       "poi\n",
       "False    1.947752e+06\n",
       "True     1.046379e+07\n",
       "Name: exercised_stock_options, dtype: float64"
      ]
     },
     "execution_count": 31,
     "metadata": {},
     "output_type": "execute_result"
    }
   ],
   "source": [
    "average_optionsvalue = enron.groupby('poi').mean()['exercised_stock_options']\n",
    "average_optionsvalue"
   ]
  },
  {
   "cell_type": "code",
   "execution_count": 32,
   "metadata": {
    "collapsed": false
   },
   "outputs": [
    {
     "data": {
      "text/plain": [
       "<matplotlib.axes._subplots.AxesSubplot at 0xe353080>"
      ]
     },
     "execution_count": 32,
     "metadata": {},
     "output_type": "execute_result"
    },
    {
     "data": {
      "image/png": "[encoded data removed]",
      "text/plain": [
       "<matplotlib.figure.Figure at 0xe233710>"
      ]
     },
     "metadata": {},
     "output_type": "display_data"
    }
   ],
   "source": [
    "sns.boxplot(x='poi',y='exercised_stock_options',data=enron)"
   ]
  },
  {
   "cell_type": "markdown",
   "metadata": {},
   "source": [
    "Exercised stock options definitely looks to be higher among POIs, so this will definitely be a feature to include in our list of features for our algorithm.  "
   ]
  },
  {
   "cell_type": "markdown",
   "metadata": {},
   "source": [
    "<a id='Total BE'></a>\n",
    "\n",
    "### Total Bonus and Exercised Stock Options"
   ]
  },
  {
   "cell_type": "code",
   "execution_count": 33,
   "metadata": {
    "collapsed": false
   },
   "outputs": [
    {
     "data": {
      "text/plain": [
       "poi\n",
       "False    1.870028e+06\n",
       "True     8.820307e+06\n",
       "Name: total_be, dtype: float64"
      ]
     },
     "execution_count": 33,
     "metadata": {},
     "output_type": "execute_result"
    }
   ],
   "source": [
    "average_total_sbe = enron.groupby('poi').mean()['total_be']\n",
    "average_total_sbe"
   ]
  },
  {
   "cell_type": "code",
   "execution_count": 34,
   "metadata": {
    "collapsed": false
   },
   "outputs": [
    {
     "data": {
      "text/plain": [
       "<matplotlib.axes._subplots.AxesSubplot at 0xe6089b0>"
      ]
     },
     "execution_count": 34,
     "metadata": {},
     "output_type": "execute_result"
    },
    {
     "data": {
      "image/png": "[encoded data removed]",
      "text/plain": [
       "<matplotlib.figure.Figure at 0xe76b588>"
      ]
     },
     "metadata": {},
     "output_type": "display_data"
    }
   ],
   "source": [
    "sns.boxplot(x='poi',y='total_be',data=enron)"
   ]
  },
  {
   "cell_type": "markdown",
   "metadata": {},
   "source": [
    "Total Bonus and Exercised Stock Options might be useful, but it might also just add to the noise.  So, maybe we won't use this one.  "
   ]
  },
  {
   "cell_type": "markdown",
   "metadata": {},
   "source": [
    "<a id='Total Stock Value'></a>\n",
    "\n",
    "### Total Stock Value"
   ]
  },
  {
   "cell_type": "code",
   "execution_count": 35,
   "metadata": {
    "collapsed": false
   },
   "outputs": [
    {
     "data": {
      "text/plain": [
       "poi\n",
       "False    2.374085e+06\n",
       "True     9.165671e+06\n",
       "Name: total_stock_value, dtype: float64"
      ]
     },
     "execution_count": 35,
     "metadata": {},
     "output_type": "execute_result"
    }
   ],
   "source": [
    "average_stockvalue = enron.groupby('poi').mean()['total_stock_value']\n",
    "average_stockvalue"
   ]
  },
  {
   "cell_type": "code",
   "execution_count": 36,
   "metadata": {
    "collapsed": false
   },
   "outputs": [
    {
     "data": {
      "text/plain": [
       "<matplotlib.axes._subplots.AxesSubplot at 0xeba4358>"
      ]
     },
     "execution_count": 36,
     "metadata": {},
     "output_type": "execute_result"
    },
    {
     "data": {
      "image/png": "[encoded data removed]",
      "text/plain": [
       "<matplotlib.figure.Figure at 0xe08d550>"
      ]
     },
     "metadata": {},
     "output_type": "display_data"
    }
   ],
   "source": [
    "sns.boxplot(x='poi',y='total_stock_value',data=enron)"
   ]
  },
  {
   "cell_type": "markdown",
   "metadata": {},
   "source": [
    "Total stock value for POIs on average is much higher than non-POIs.  This feature is another good option for our POI identifier."
   ]
  },
  {
   "cell_type": "markdown",
   "metadata": {},
   "source": [
    "<a id='Total Millions'></a>\n",
    "\n",
    "### Total Payments and Stock Value in Millions"
   ]
  },
  {
   "cell_type": "code",
   "execution_count": 37,
   "metadata": {
    "collapsed": false
   },
   "outputs": [
    {
     "data": {
      "text/plain": [
       "poi\n",
       "False     3.440052\n",
       "True     17.079261\n",
       "Name: total_millions, dtype: float64"
      ]
     },
     "execution_count": 37,
     "metadata": {},
     "output_type": "execute_result"
    }
   ],
   "source": [
    "average_total_comp = enron.groupby('poi').mean()['total_millions']\n",
    "average_total_comp"
   ]
  },
  {
   "cell_type": "code",
   "execution_count": 38,
   "metadata": {
    "collapsed": false
   },
   "outputs": [
    {
     "data": {
      "text/plain": [
       "<matplotlib.axes._subplots.AxesSubplot at 0xef21668>"
      ]
     },
     "execution_count": 38,
     "metadata": {},
     "output_type": "execute_result"
    },
    {
     "data": {
      "image/png": "[encoded data removed]",
      "text/plain": [
       "<matplotlib.figure.Figure at 0xe9785c0>"
      ]
     },
     "metadata": {},
     "output_type": "display_data"
    }
   ],
   "source": [
    "sns.boxplot(x='poi',y='total_millions',data= enron)"
   ]
  },
  {
   "cell_type": "markdown",
   "metadata": {},
   "source": [
    "Let's try that one again without Ken Lay..."
   ]
  },
  {
   "cell_type": "code",
   "execution_count": 39,
   "metadata": {
    "collapsed": false
   },
   "outputs": [
    {
     "data": {
      "text/plain": [
       "<matplotlib.axes._subplots.AxesSubplot at 0xeec3390>"
      ]
     },
     "execution_count": 39,
     "metadata": {},
     "output_type": "execute_result"
    },
    {
     "data": {
      "image/png": "[encoded data removed]",
      "text/plain": [
       "<matplotlib.figure.Figure at 0xe978978>"
      ]
     },
     "metadata": {},
     "output_type": "display_data"
    }
   ],
   "source": [
    "sns.boxplot(x='poi',y='total_millions',data= kl_not_in)"
   ]
  },
  {
   "cell_type": "markdown",
   "metadata": {},
   "source": [
    "Hmmmm, maybe we didn't need to add this feature.  We can look closer by using lmplot and pairplot later on in our analysis."
   ]
  },
  {
   "cell_type": "markdown",
   "metadata": {},
   "source": [
    "<a id='Shared Receipt'></a>\n",
    "\n",
    "### Shared Receipt with POI"
   ]
  },
  {
   "cell_type": "code",
   "execution_count": 40,
   "metadata": {
    "collapsed": false
   },
   "outputs": [
    {
     "data": {
      "text/plain": [
       "poi\n",
       "False    1058.527778\n",
       "True     1783.000000\n",
       "Name: shared_receipt_with_poi, dtype: float64"
      ]
     },
     "execution_count": 40,
     "metadata": {},
     "output_type": "execute_result"
    }
   ],
   "source": [
    "average_shared_receipt = enron.groupby('poi').mean()['shared_receipt_with_poi']\n",
    "average_shared_receipt"
   ]
  },
  {
   "cell_type": "code",
   "execution_count": 41,
   "metadata": {
    "collapsed": false
   },
   "outputs": [
    {
     "data": {
      "text/plain": [
       "<matplotlib.axes._subplots.AxesSubplot at 0x10734b00>"
      ]
     },
     "execution_count": 41,
     "metadata": {},
     "output_type": "execute_result"
    },
    {
     "data": {
      "image/png": "[encoded data removed]",
      "text/plain": [
       "<matplotlib.figure.Figure at 0x106b22e8>"
      ]
     },
     "metadata": {},
     "output_type": "display_data"
    }
   ],
   "source": [
    "sns.boxplot(x='poi',y='shared_receipt_with_poi',data= enron)"
   ]
  },
  {
   "cell_type": "markdown",
   "metadata": {},
   "source": [
    "<a id='To Messages'></a>\n",
    "\n",
    "### To Messages"
   ]
  },
  {
   "cell_type": "code",
   "execution_count": 42,
   "metadata": {
    "collapsed": false
   },
   "outputs": [
    {
     "data": {
      "text/plain": [
       "poi\n",
       "False    2007.111111\n",
       "True     2417.142857\n",
       "Name: to_messages, dtype: float64"
      ]
     },
     "execution_count": 42,
     "metadata": {},
     "output_type": "execute_result"
    }
   ],
   "source": [
    "average_to = enron.groupby('poi').mean()['to_messages']\n",
    "average_to"
   ]
  },
  {
   "cell_type": "code",
   "execution_count": 43,
   "metadata": {
    "collapsed": false
   },
   "outputs": [
    {
     "data": {
      "text/plain": [
       "<matplotlib.axes._subplots.AxesSubplot at 0x10b46e80>"
      ]
     },
     "execution_count": 43,
     "metadata": {},
     "output_type": "execute_result"
    },
    {
     "data": {
      "image/png": "[encoded data removed]",
      "text/plain": [
       "<matplotlib.figure.Figure at 0x10519f98>"
      ]
     },
     "metadata": {},
     "output_type": "display_data"
    }
   ],
   "source": [
    "sns.boxplot(x='poi',y='to_messages',data= enron)"
   ]
  },
  {
   "cell_type": "markdown",
   "metadata": {},
   "source": [
    "<a id='From Messages'></a>\n",
    "\n",
    "### From Messages"
   ]
  },
  {
   "cell_type": "code",
   "execution_count": 44,
   "metadata": {
    "collapsed": false
   },
   "outputs": [
    {
     "data": {
      "text/plain": [
       "poi\n",
       "False    668.763889\n",
       "True     300.357143\n",
       "Name: from_messages, dtype: float64"
      ]
     },
     "execution_count": 44,
     "metadata": {},
     "output_type": "execute_result"
    }
   ],
   "source": [
    "average_from = enron.groupby('poi').mean()['from_messages']\n",
    "average_from"
   ]
  },
  {
   "cell_type": "code",
   "execution_count": 45,
   "metadata": {
    "collapsed": false
   },
   "outputs": [
    {
     "data": {
      "text/plain": [
       "<matplotlib.axes._subplots.AxesSubplot at 0x106998d0>"
      ]
     },
     "execution_count": 45,
     "metadata": {},
     "output_type": "execute_result"
    },
    {
     "data": {
      "image/png": "[encoded data removed]",
      "text/plain": [
       "<matplotlib.figure.Figure at 0x10a0bd68>"
      ]
     },
     "metadata": {},
     "output_type": "display_data"
    }
   ],
   "source": [
    "sns.boxplot(x='poi',y='from_messages',data= enron)"
   ]
  },
  {
   "cell_type": "markdown",
   "metadata": {},
   "source": [
    "<a id='FTP'></a>\n",
    "\n",
    "### Fraction to POI"
   ]
  },
  {
   "cell_type": "code",
   "execution_count": 46,
   "metadata": {
    "collapsed": false
   },
   "outputs": [
    {
     "data": {
      "text/plain": [
       "poi\n",
       "False    0.152669\n",
       "True     0.345470\n",
       "Name: fraction_to_poi, dtype: float64"
      ]
     },
     "execution_count": 46,
     "metadata": {},
     "output_type": "execute_result"
    }
   ],
   "source": [
    "average_fraction_to = enron.groupby('poi').mean()['fraction_to_poi']\n",
    "average_fraction_to"
   ]
  },
  {
   "cell_type": "code",
   "execution_count": 47,
   "metadata": {
    "collapsed": false
   },
   "outputs": [
    {
     "data": {
      "text/plain": [
       "<matplotlib.axes._subplots.AxesSubplot at 0x10e21c88>"
      ]
     },
     "execution_count": 47,
     "metadata": {},
     "output_type": "execute_result"
    },
    {
     "data": {
      "image/png": "[encoded data removed]",
      "text/plain": [
       "<matplotlib.figure.Figure at 0x10c119b0>"
      ]
     },
     "metadata": {},
     "output_type": "display_data"
    }
   ],
   "source": [
    "sns.boxplot(x='poi',y='fraction_to_poi',data= enron)"
   ]
  },
  {
   "cell_type": "markdown",
   "metadata": {},
   "source": [
    "Fraction_to_poi looks like a good feature to add to our list, since most of the poi distribution is in the upper range of the non-poi distribution."
   ]
  },
  {
   "cell_type": "markdown",
   "metadata": {},
   "source": [
    "<a id='FFP'></a>\n",
    "\n",
    "### Fraction from POI"
   ]
  },
  {
   "cell_type": "code",
   "execution_count": 48,
   "metadata": {
    "collapsed": false
   },
   "outputs": [
    {
     "data": {
      "text/plain": [
       "poi\n",
       "False    0.036107\n",
       "True     0.047507\n",
       "Name: fraction_from_poi, dtype: float64"
      ]
     },
     "execution_count": 48,
     "metadata": {},
     "output_type": "execute_result"
    }
   ],
   "source": [
    "average_fraction_from = enron.groupby('poi').mean()['fraction_from_poi']\n",
    "average_fraction_from"
   ]
  },
  {
   "cell_type": "code",
   "execution_count": 49,
   "metadata": {
    "collapsed": false
   },
   "outputs": [
    {
     "data": {
      "text/plain": [
       "<matplotlib.axes._subplots.AxesSubplot at 0x112cf2e8>"
      ]
     },
     "execution_count": 49,
     "metadata": {},
     "output_type": "execute_result"
    },
    {
     "data": {
      "image/png": "[encoded data removed]",
      "text/plain": [
       "<matplotlib.figure.Figure at 0x10ddd908>"
      ]
     },
     "metadata": {},
     "output_type": "display_data"
    }
   ],
   "source": [
    "sns.boxplot(x='poi',y='fraction_from_poi',data= enron)"
   ]
  },
  {
   "cell_type": "markdown",
   "metadata": {},
   "source": [
    "[Top](#top)\n",
    "\n",
    "<b>Pairplot Analysis</b>\n",
    "\n",
    "Now, let's take a look at some of our features in the following pairplot.  Maybe it will help us make our final decisions for our features list."
   ]
  },
  {
   "cell_type": "code",
   "execution_count": 51,
   "metadata": {
    "collapsed": false
   },
   "outputs": [
    {
     "data": {
      "image/png": "[encoded data removed]",
      "text/plain": [
       "<matplotlib.figure.Figure at 0x13074cc0>"
      ]
     },
     "metadata": {},
     "output_type": "display_data"
    }
   ],
   "source": [
    "import seaborn as sns; sns.set(style=\"ticks\", color_codes=True)\n",
    "\n",
    "g = sns.pairplot(enron, vars=['bonus','exercised_stock_options','from_messages','fraction_to_poi'],\n",
    "                 dropna=True, diag_kind='kde', hue='poi', markers=['x','o'])"
   ]
  },
  {
   "cell_type": "markdown",
   "metadata": {
    "collapsed": true
   },
   "source": [
    "<a id='Outliers'></a>\n",
    "\n",
    "## Outliers\n",
    "\n",
    "When looking at the stats for poi and non-poi for the first time, I noticed that the non-poi stats were much higher than the poi stats.  That's when I remembered I didn't account for the \"TOTAL\" key.  So, I went back and skipped over that key when writing to my csv.  I figured I'd just pop it out of my dictionary later if I need to.  After doing that, my stats were as expected.  Now, let's see what other outliers we can find.  In the pairplot above, there were two POIs that really stood out.  Let's take a closer look in the following lmplot."
   ]
  },
  {
   "cell_type": "code",
   "execution_count": 52,
   "metadata": {
    "collapsed": false
   },
   "outputs": [
    {
     "data": {
      "text/plain": [
       "<matplotlib.text.Text at 0x14e43e10>"
      ]
     },
     "execution_count": 52,
     "metadata": {},
     "output_type": "execute_result"
    },
    {
     "data": {
      "image/png": "[encoded data removed]",
      "text/plain": [
       "<matplotlib.figure.Figure at 0x14d25dd8>"
      ]
     },
     "metadata": {},
     "output_type": "display_data"
    }
   ],
   "source": [
    "sns.lmplot(x='bonus', y= 'salary', hue='poi', data=enron, palette='Set1',size=10,markers=['x','o'])\n",
    "plt.title('Salary/Bonus for POI and non-POI', fontsize=18)\n",
    "plt.xlabel('Bonus', fontsize=16)\n",
    "plt.ylabel('Salary', fontsize=16)\n"
   ]
  },
  {
   "cell_type": "code",
   "execution_count": 54,
   "metadata": {
    "collapsed": false
   },
   "outputs": [
    {
     "data": {
      "text/html": [
       "<div>\n",
       "<table border=\"1\" class=\"dataframe\">\n",
       "  <thead>\n",
       "    <tr style=\"text-align: right;\">\n",
       "      <th></th>\n",
       "      <th>name</th>\n",
       "      <th>salary</th>\n",
       "      <th>bonus</th>\n",
       "      <th>poi</th>\n",
       "    </tr>\n",
       "  </thead>\n",
       "  <tbody>\n",
       "    <tr>\n",
       "      <th>65</th>\n",
       "      <td>LAY KENNETH L</td>\n",
       "      <td>1072321.0</td>\n",
       "      <td>7000000.0</td>\n",
       "      <td>True</td>\n",
       "    </tr>\n",
       "    <tr>\n",
       "      <th>95</th>\n",
       "      <td>SKILLING JEFFREY K</td>\n",
       "      <td>1111258.0</td>\n",
       "      <td>5600000.0</td>\n",
       "      <td>True</td>\n",
       "    </tr>\n",
       "    <tr>\n",
       "      <th>128</th>\n",
       "      <td>FREVERT MARK A</td>\n",
       "      <td>1060932.0</td>\n",
       "      <td>2000000.0</td>\n",
       "      <td>False</td>\n",
       "    </tr>\n",
       "  </tbody>\n",
       "</table>\n",
       "</div>"
      ],
      "text/plain": [
       "                   name     salary      bonus    poi\n",
       "65        LAY KENNETH L  1072321.0  7000000.0   True\n",
       "95   SKILLING JEFFREY K  1111258.0  5600000.0   True\n",
       "128      FREVERT MARK A  1060932.0  2000000.0  False"
      ]
     },
     "execution_count": 54,
     "metadata": {},
     "output_type": "execute_result"
    }
   ],
   "source": [
    "#Who are the two outliers in blue with the high salary AND high bonus?  Ken Lay and Jeff Skilling of course!\n",
    "\n",
    "enron[(enron['salary']>1000000)][['name','salary','bonus','poi']]"
   ]
  },
  {
   "cell_type": "markdown",
   "metadata": {},
   "source": [
    "These are two of our persons of interest, so we definitely don't want to take them out of our dataset.  "
   ]
  },
  {
   "cell_type": "markdown",
   "metadata": {},
   "source": [
    "According to [Executive Excess 2002](http://d3n8a8pro7vhmx.cloudfront.net/ufe/legacy_url/629/Executive_Excess_2002.pdf?1448073268)\n",
    ">Top executives at 23 companies under investigation for their accounting practices earned far more during the\n",
    "past three years than the average CEO at large companies. CEOs at the firms under investigation earned an\n",
    "average of 62.2 million dollars during 1999-2001, 70 percent more than the average of 36.5 million dollars for all\n",
    "leading executives for that period."
   ]
  },
  {
   "cell_type": "markdown",
   "metadata": {},
   "source": [
    "We may also be able to find a few datapoints that are just causing noise by checking for lots of missing values in rows."
   ]
  },
  {
   "cell_type": "code",
   "execution_count": 55,
   "metadata": {
    "collapsed": false
   },
   "outputs": [
    {
     "name": "stdout",
     "output_type": "stream",
     "text": [
      "name                         LOCKHART EUGENE E\n",
      "salary                                     NaN\n",
      "to_messages                                NaN\n",
      "deferral_payments                          NaN\n",
      "total_payments                             NaN\n",
      "exercised_stock_options                    NaN\n",
      "bonus                                      NaN\n",
      "restricted_stock                           NaN\n",
      "shared_receipt_with_poi                    NaN\n",
      "restricted_stock_deferred                  NaN\n",
      "total_stock_value                          NaN\n",
      "expenses                                   NaN\n",
      "loan_advances                              NaN\n",
      "from_messages                              NaN\n",
      "other                                      NaN\n",
      "from_this_person_to_poi                    NaN\n",
      "poi                                      False\n",
      "director_fees                              NaN\n",
      "deferred_income                            NaN\n",
      "long_term_incentive                        NaN\n",
      "email_address                              NaN\n",
      "from_poi_to_this_person                    NaN\n",
      "total_be                                     0\n",
      "fraction_to_poi                            NaN\n",
      "fraction_from_poi                          NaN\n",
      "total_millions                               0\n",
      "Name: 90, dtype: object\n"
     ]
    }
   ],
   "source": [
    "#check for more than 20 missing values for each datapoint\n",
    "\n",
    "i = 0\n",
    "\n",
    "for row in enron.isnull().sum(axis=1):\n",
    "    if row > 20:\n",
    "        print enron.iloc[i]\n",
    "    i+=1"
   ]
  },
  {
   "cell_type": "code",
   "execution_count": 56,
   "metadata": {
    "collapsed": false
   },
   "outputs": [
    {
     "data": {
      "text/plain": [
       "name                           0\n",
       "salary                        51\n",
       "to_messages                   59\n",
       "deferral_payments            107\n",
       "total_payments                21\n",
       "exercised_stock_options       44\n",
       "bonus                         64\n",
       "restricted_stock              36\n",
       "shared_receipt_with_poi       59\n",
       "restricted_stock_deferred    128\n",
       "total_stock_value             20\n",
       "expenses                      51\n",
       "loan_advances                142\n",
       "from_messages                 59\n",
       "other                         53\n",
       "from_this_person_to_poi       59\n",
       "poi                            0\n",
       "director_fees                129\n",
       "deferred_income               97\n",
       "long_term_incentive           80\n",
       "email_address                 34\n",
       "from_poi_to_this_person       59\n",
       "total_be                       0\n",
       "fraction_to_poi               59\n",
       "fraction_from_poi             59\n",
       "total_millions                 0\n",
       "dtype: int64"
      ]
     },
     "execution_count": 56,
     "metadata": {},
     "output_type": "execute_result"
    }
   ],
   "source": [
    "#check for missing values in features\n",
    "\n",
    "enron.isnull().sum()"
   ]
  },
  {
   "cell_type": "markdown",
   "metadata": {},
   "source": [
    "Loan advances has 142 missing values!  That's definitely a feature we can remove before we run our tests."
   ]
  },
  {
   "cell_type": "markdown",
   "metadata": {},
   "source": [
    "<b>Money and Messages Regression Model</b>"
   ]
  },
  {
   "cell_type": "code",
   "execution_count": 57,
   "metadata": {
    "collapsed": false
   },
   "outputs": [
    {
     "data": {
      "text/plain": [
       "<matplotlib.text.Text at 0x1517fa90>"
      ]
     },
     "execution_count": 57,
     "metadata": {},
     "output_type": "execute_result"
    },
    {
     "data": {
      "image/png": "[encoded data removed]",
      "text/plain": [
       "<matplotlib.figure.Figure at 0x14fe5080>"
      ]
     },
     "metadata": {},
     "output_type": "display_data"
    }
   ],
   "source": [
    "sns.lmplot(x='bonus', y='fraction_to_poi', hue='poi', data=enron, palette='Set1',size=10,markers=['x','o'])\n",
    "plt.title('Money & Messages', fontsize=18)"
   ]
  },
  {
   "cell_type": "markdown",
   "metadata": {},
   "source": [
    "[Top](#top)\n",
    "\n",
    "<a id='TSS'></a>\n",
    "\n",
    "## Transform, Select, and Scale\n",
    "\n",
    "Now let's transform, select, and scale our features.  "
   ]
  },
  {
   "cell_type": "code",
   "execution_count": 75,
   "metadata": {
    "collapsed": false
   },
   "outputs": [
    {
     "name": "stdout",
     "output_type": "stream",
     "text": [
      "\n"
     ]
    }
   ],
   "source": [
    "import sys\n",
    "import pickle\n",
    "sys.path.append(\"../tools/\")\n",
    "\n",
    "from feature_format import featureFormat, targetFeatureSplit\n",
    "from tester import dump_classifier_and_data"
   ]
  },
  {
   "cell_type": "code",
   "execution_count": 60,
   "metadata": {
    "collapsed": false
   },
   "outputs": [
    {
     "data": {
      "text/plain": [
       "['poi',\n",
       " 'salary',\n",
       " 'to_messages',\n",
       " 'deferral_payments',\n",
       " 'total_payments',\n",
       " 'exercised_stock_options',\n",
       " 'bonus',\n",
       " 'restricted_stock',\n",
       " 'shared_receipt_with_poi',\n",
       " 'restricted_stock_deferred',\n",
       " 'total_stock_value',\n",
       " 'expenses',\n",
       " 'from_messages',\n",
       " 'other',\n",
       " 'from_this_person_to_poi',\n",
       " 'deferred_income',\n",
       " 'long_term_incentive',\n",
       " 'from_poi_to_this_person',\n",
       " 'total_be',\n",
       " 'fraction_to_poi',\n",
       " 'fraction_from_poi',\n",
       " 'total_millions']"
      ]
     },
     "execution_count": 60,
     "metadata": {},
     "output_type": "execute_result"
    }
   ],
   "source": [
    "features_full_list = enron.columns.tolist()\n",
    "features_full_list.pop(0) #take out 'name'\n",
    "features_full_list.pop(19) #take out 'email_address'\n",
    "features_full_list.pop(11) #take out 'loan_advances' because of missing values\n",
    "features_full_list.pop(15) #take out 'director_fees' because of missing values\n",
    "features_full_list.pop(14) #take out 'poi' for now and add to beginning of list\n",
    "features_list = ['poi']\n",
    "for n in features_full_list:\n",
    "    features_list.append(n)\n",
    "features_list"
   ]
  },
  {
   "cell_type": "code",
   "execution_count": 61,
   "metadata": {
    "collapsed": false
   },
   "outputs": [
    {
     "data": {
      "text/plain": [
       "{'bonus': 97343619,\n",
       " 'deferral_payments': 32083396,\n",
       " 'deferred_income': -27992891,\n",
       " 'director_fees': 1398517,\n",
       " 'email_address': 'NaN',\n",
       " 'exercised_stock_options': 311764000,\n",
       " 'expenses': 5235198,\n",
       " 'from_messages': 'NaN',\n",
       " 'from_poi_to_this_person': 'NaN',\n",
       " 'from_this_person_to_poi': 'NaN',\n",
       " 'loan_advances': 83925000,\n",
       " 'long_term_incentive': 48521928,\n",
       " 'other': 42667589,\n",
       " 'poi': False,\n",
       " 'restricted_stock': 130322299,\n",
       " 'restricted_stock_deferred': -7576788,\n",
       " 'salary': 26704229,\n",
       " 'shared_receipt_with_poi': 'NaN',\n",
       " 'to_messages': 'NaN',\n",
       " 'total_payments': 309886585,\n",
       " 'total_stock_value': 434509511}"
      ]
     },
     "execution_count": 61,
     "metadata": {},
     "output_type": "execute_result"
    }
   ],
   "source": [
    "### Remove outliers that corrupt the data\n",
    "enron_dict.pop('TOTAL', 0)"
   ]
  },
  {
   "cell_type": "code",
   "execution_count": 62,
   "metadata": {
    "collapsed": false
   },
   "outputs": [
    {
     "data": {
      "text/plain": [
       "{'bonus': 'NaN',\n",
       " 'deferral_payments': 'NaN',\n",
       " 'deferred_income': 'NaN',\n",
       " 'director_fees': 'NaN',\n",
       " 'email_address': 'NaN',\n",
       " 'exercised_stock_options': 'NaN',\n",
       " 'expenses': 'NaN',\n",
       " 'from_messages': 'NaN',\n",
       " 'from_poi_to_this_person': 'NaN',\n",
       " 'from_this_person_to_poi': 'NaN',\n",
       " 'loan_advances': 'NaN',\n",
       " 'long_term_incentive': 'NaN',\n",
       " 'other': 'NaN',\n",
       " 'poi': False,\n",
       " 'restricted_stock': 'NaN',\n",
       " 'restricted_stock_deferred': 'NaN',\n",
       " 'salary': 'NaN',\n",
       " 'shared_receipt_with_poi': 'NaN',\n",
       " 'to_messages': 'NaN',\n",
       " 'total_payments': 'NaN',\n",
       " 'total_stock_value': 'NaN'}"
      ]
     },
     "execution_count": 62,
     "metadata": {},
     "output_type": "execute_result"
    }
   ],
   "source": [
    "#remove datapoints that create noise\n",
    "\n",
    "enron_dict.pop('LOCKHART EUGENE E',0)"
   ]
  },
  {
   "cell_type": "code",
   "execution_count": 63,
   "metadata": {
    "collapsed": true
   },
   "outputs": [],
   "source": [
    "#take out all 'loan_advances' because of missing values\n",
    "\n",
    "for name in enron_dict:\n",
    "    enron_dict[name].pop('loan_advances',0)"
   ]
  },
  {
   "cell_type": "code",
   "execution_count": 64,
   "metadata": {
    "collapsed": true
   },
   "outputs": [],
   "source": [
    "### Create new feature(s)\n",
    "\n",
    "#add fraction of emails from and to poi\n",
    "#idea for this added feature taken from course materials\n",
    "\n",
    "def computeFraction( poi_messages, all_messages ):\n",
    "    \"\"\" given a number messages to/from POI (numerator) \n",
    "        and number of all messages to/from a person (denominator),\n",
    "        return the fraction of messages to/from that person\n",
    "        that are from/to a POI\n",
    "   \"\"\"\n",
    "    fraction = 0.\n",
    "    if poi_messages != 'NaN' and all_messages != 'NaN':\n",
    "        fraction = float(poi_messages)/all_messages\n",
    "\n",
    "\n",
    "    return fraction"
   ]
  },
  {
   "cell_type": "code",
   "execution_count": 65,
   "metadata": {
    "collapsed": false
   },
   "outputs": [],
   "source": [
    "for name in enron_dict:\n",
    "\n",
    "    data_point = enron_dict[name]\n",
    "\n",
    "    from_poi_to_this_person = data_point[\"from_poi_to_this_person\"]\n",
    "    to_messages = data_point[\"to_messages\"]\n",
    "    fraction_from_poi = computeFraction( from_poi_to_this_person, to_messages )\n",
    "    \n",
    "    enron_dict[name][\"fraction_from_poi\"] = fraction_from_poi\n",
    "  \n",
    "    from_this_person_to_poi = data_point[\"from_this_person_to_poi\"]\n",
    "    from_messages = data_point[\"from_messages\"]\n",
    "    fraction_to_poi = computeFraction( from_this_person_to_poi, from_messages )\n",
    "\n",
    "    enron_dict[name][\"fraction_to_poi\"] = fraction_to_poi\n"
   ]
  },
  {
   "cell_type": "code",
   "execution_count": 66,
   "metadata": {
    "collapsed": false
   },
   "outputs": [],
   "source": [
    "#add total_be to dictionary\n",
    "\n",
    "for name in enron_dict:\n",
    "    data_point = enron_dict[name]\n",
    "    \n",
    "    bonus = data_point['bonus']\n",
    "    if bonus == 'NaN':\n",
    "        bonus = 0.0\n",
    "    options = data_point['exercised_stock_options']\n",
    "    if options == 'NaN':\n",
    "        options = 0.0\n",
    "    total = bonus+options\n",
    "\n",
    "    enron_dict[name]['total_be'] = total\n",
    "    \n",
    "    \n"
   ]
  },
  {
   "cell_type": "code",
   "execution_count": 68,
   "metadata": {
    "collapsed": true
   },
   "outputs": [],
   "source": [
    "#add total compensation in millions to dataset\n",
    "\n",
    "for name in enron_dict:\n",
    "    data_point = enron_dict[name]\n",
    "    \n",
    "    total_payments = data_point['total_payments']\n",
    "    if total_payments == 'NaN':\n",
    "        total_payments = 0.0\n",
    "    total_stock = data_point['total_stock_value']\n",
    "    if total_stock == 'NaN':\n",
    "        total_stock = 0.0\n",
    "    total = (total_payments + total_stock)/1000000\n",
    "\n",
    "    enron_dict[name]['total_millions'] = total"
   ]
  },
  {
   "cell_type": "markdown",
   "metadata": {},
   "source": [
    "<b>SELECT FEATURES</b>"
   ]
  },
  {
   "cell_type": "markdown",
   "metadata": {},
   "source": [
    "I've selected a few lists that may be useful in training our classifiers.  Each of the features selected may be able to give us some insight into the compensation and behavior of a POI.  The total compensation (total_millions) shows us that, on average, POIs are compensated more highly than non-POIs.  The same holds true for individual payments, like salary and bonus.  And, when it comes to stock behavior, POIs are more active in their exercising of stock options(exercised_stock_options.)  Other features, like from_messages, show a kind of pattern in e-mail behavior.  POIs do not send many messages.  However, the ones they do send are often to other POIs(fraction_to_poi).  These are all features we'll test before making our final feature selection.\n",
    "<br><br>\n",
    "<b>We will start out with our full list as a baseline and test that against our selected lists' metrics in order to find our final feature list for our POI identifier.  Our lists were chosen based on our stats and plots generated in our analysis.  Those features that showed a greater overall difference between POI and non-POI stats were chosen</b>"
   ]
  },
  {
   "cell_type": "code",
   "execution_count": 69,
   "metadata": {
    "collapsed": false
   },
   "outputs": [
    {
     "name": "stdout",
     "output_type": "stream",
     "text": [
      "['poi', 'salary', 'to_messages', 'deferral_payments', 'total_payments', 'exercised_stock_options', 'bonus', 'restricted_stock', 'shared_receipt_with_poi', 'restricted_stock_deferred', 'total_stock_value', 'expenses', 'from_messages', 'other', 'from_this_person_to_poi', 'deferred_income', 'long_term_incentive', 'from_poi_to_this_person', 'total_be', 'fraction_to_poi', 'fraction_from_poi', 'total_millions']\n"
     ]
    }
   ],
   "source": [
    "print features_list #list of features available for testing"
   ]
  },
  {
   "cell_type": "code",
   "execution_count": 70,
   "metadata": {
    "collapsed": false
   },
   "outputs": [
    {
     "name": "stdout",
     "output_type": "stream",
     "text": [
      "Final List ['poi', 'bonus', 'exercised_stock_options', 'fraction_to_poi']\n"
     ]
    }
   ],
   "source": [
    "### Select what features to use\n",
    "first_list = ['poi','total_millions','fraction_to_poi','from_messages']\n",
    "second_list = ['poi','total_be','fraction_to_poi','from_messages']\n",
    "third_list = ['poi','salary','bonus','fraction_to_poi','from_messages']\n",
    "fourth_list = ['poi','bonus','exercised_stock_options','fraction_to_poi']\n",
    "features_final_list = fourth_list\n",
    "print \"Final List\", features_final_list"
   ]
  },
  {
   "cell_type": "markdown",
   "metadata": {},
   "source": [
    "<a id=\"Algorithm\"></a>\n",
    "\n",
    "## Algorithm Selection\n",
    "\n",
    "<a id='Metrics'></a>\n",
    "\n",
    "### Evaluation Metrics"
   ]
  },
  {
   "cell_type": "code",
   "execution_count": 71,
   "metadata": {
    "collapsed": false
   },
   "outputs": [],
   "source": [
    "#Evaluation metrics\n",
    "\n",
    "from sklearn.metrics import accuracy_score\n",
    "from sklearn.metrics import precision_score\n",
    "from sklearn.metrics import recall_score\n",
    "\n",
    "import scikitplot as skplt\n",
    "\n",
    "from sklearn.cross_validation import StratifiedShuffleSplit"
   ]
  },
  {
   "cell_type": "code",
   "execution_count": 73,
   "metadata": {
    "collapsed": true
   },
   "outputs": [],
   "source": [
    "#Classifiers\n",
    "from sklearn.naive_bayes import GaussianNB\n",
    "from sklearn.tree import DecisionTreeClassifier\n",
    "from sklearn.neighbors import KNeighborsClassifier"
   ]
  },
  {
   "cell_type": "code",
   "execution_count": 85,
   "metadata": {
    "collapsed": false
   },
   "outputs": [],
   "source": [
    "# %load 'my_test.py'\n",
    "def test_list(classifier, feature_list, enron_dict):\n",
    "    \n",
    "    my_dataset = enron_dict\n",
    "    \n",
    "    data = featureFormat(my_dataset, feature_list, sort_keys = True) \n",
    "    labels, features = targetFeatureSplit(data) \n",
    "    \n",
    "    X = np.array(features)\n",
    "    y = np.array(labels)\n",
    "    sss = StratifiedShuffleSplit(labels, n_iter=1000, test_size=0.3, random_state=42)      \n",
    "    for train_index, test_index in sss:\n",
    "        features_train, features_test = X[train_index], X[test_index]\n",
    "        labels_train, labels_test = y[train_index], y[test_index]\n",
    "        \n",
    "    clf = classifier\n",
    "    clf.fit(features_train,labels_train)\n",
    "    pred = clf.predict(features_test)\n",
    "    \n",
    "    if classifier == DecisionTreeClassifier():\n",
    "        return {'Accuracy': accuracy_score(labels_test,pred),'Precision': precision_score(labels_test,pred),\n",
    "                'Recall': recall_score(labels_test,pred), 'Feature Importance': clf.feature_importances_}\n",
    "    \n",
    "    return {'Accuracy': accuracy_score(labels_test,pred),'Precision': precision_score(labels_test,pred),\n",
    "            'Recall': recall_score(labels_test,pred)}\n",
    "    \n",
    "    \n",
    "   "
   ]
  },
  {
   "cell_type": "markdown",
   "metadata": {},
   "source": [
    "<a id='Test'></a>\n",
    "\n",
    "### Performance:  Accuracy, Precision, and Recall\n",
    "\n",
    "Below, we will test each list using three different algorithms: Naive Bayes, Decision Tree, and KNearest Neighbors.  \n",
    "- Our accuracy score will show us our ratio of correctly predicted observation to the total observations.  \n",
    "    Accuracy = TP+TN/TP+FP+FN+TN\n",
    "- Precision is the ratio of correctly predicted positive observations to the total predicted positive observations.  \n",
    "    Precision = TP/TP+FP\n",
    "- And, recall is the ratio of correctly predicted positive observations to all observations in the class.  \n",
    "    Recall = TP/TP+FN\n",
    "\n",
    "When trying to identify POIs, we want to see as few falsely identified positives.  We don't want to falsely identify anyone as a POI.  So, I'd say precision is a bit more important here.  Let's see how each list does using each classifier."
   ]
  },
  {
   "cell_type": "code",
   "execution_count": 86,
   "metadata": {
    "collapsed": false
   },
   "outputs": [
    {
     "name": "stdout",
     "output_type": "stream",
     "text": [
      "['poi', 'salary', 'to_messages', 'deferral_payments', 'total_payments', 'exercised_stock_options', 'bonus', 'restricted_stock', 'shared_receipt_with_poi', 'restricted_stock_deferred', 'total_stock_value', 'expenses', 'from_messages', 'other', 'from_this_person_to_poi', 'deferred_income', 'long_term_incentive', 'from_poi_to_this_person', 'total_be', 'fraction_to_poi', 'fraction_from_poi', 'total_millions']\n",
      "GaussianNB:  {'Recall': 0.83333333333333337, 'Precision': 0.26315789473684209, 'Accuracy': 0.65909090909090906}\n",
      "DecisionTree:  {'Recall': 0.16666666666666666, 'Precision': 0.10000000000000001, 'Accuracy': 0.68181818181818177}\n",
      "KNeighbors:  {'Recall': 0.33333333333333331, 'Precision': 0.66666666666666663, 'Accuracy': 0.88636363636363635}\n"
     ]
    }
   ],
   "source": [
    "#full list\n",
    "print features_list\n",
    "print 'GaussianNB: ', test_list(GaussianNB(),features_list,enron_dict)\n",
    "print 'DecisionTree: ', test_list(DecisionTreeClassifier(),features_list,enron_dict)\n",
    "print 'KNeighbors: ', test_list(KNeighborsClassifier(),features_list,enron_dict)"
   ]
  },
  {
   "cell_type": "code",
   "execution_count": 87,
   "metadata": {
    "collapsed": false
   },
   "outputs": [
    {
     "name": "stdout",
     "output_type": "stream",
     "text": [
      "['poi', 'total_millions', 'fraction_to_poi', 'from_messages']\n",
      "GaussianNB:  {'Recall': 0.5, 'Precision': 0.59999999999999998, 'Accuracy': 0.87804878048780488}\n",
      "DecisionTree:  {'Recall': 0.0, 'Precision': 0.0, 'Accuracy': 0.75609756097560976}\n",
      "KNeighbors:  {'Recall': 0.0, 'Precision': 0.0, 'Accuracy': 0.85365853658536583}\n"
     ]
    }
   ],
   "source": [
    "#first list\n",
    "print first_list\n",
    "print 'GaussianNB: ', test_list(GaussianNB(),first_list,enron_dict)\n",
    "print 'DecisionTree: ', test_list(DecisionTreeClassifier(),first_list,enron_dict)\n",
    "print 'KNeighbors: ', test_list(KNeighborsClassifier(),first_list,enron_dict)"
   ]
  },
  {
   "cell_type": "code",
   "execution_count": 88,
   "metadata": {
    "collapsed": false
   },
   "outputs": [
    {
     "name": "stdout",
     "output_type": "stream",
     "text": [
      "['poi', 'total_be', 'fraction_to_poi', 'from_messages']\n",
      "GaussianNB:  {'Recall': 0.33333333333333331, 'Precision': 0.33333333333333331, 'Accuracy': 0.79487179487179482}\n",
      "DecisionTree:  {'Recall': 0.33333333333333331, 'Precision': 0.33333333333333331, 'Accuracy': 0.79487179487179482}\n",
      "KNeighbors:  {'Recall': 0.33333333333333331, 'Precision': 0.40000000000000002, 'Accuracy': 0.82051282051282048}\n"
     ]
    }
   ],
   "source": [
    "#second list\n",
    "print second_list\n",
    "print 'GaussianNB: ', test_list(GaussianNB(),second_list,enron_dict)\n",
    "print 'DecisionTree: ', test_list(DecisionTreeClassifier(),second_list,enron_dict)\n",
    "print 'KNeighbors: ', test_list(KNeighborsClassifier(),second_list,enron_dict)"
   ]
  },
  {
   "cell_type": "code",
   "execution_count": 89,
   "metadata": {
    "collapsed": false
   },
   "outputs": [
    {
     "name": "stdout",
     "output_type": "stream",
     "text": [
      "['poi', 'salary', 'bonus', 'fraction_to_poi', 'from_messages']\n",
      "GaussianNB:  {'Recall': 0.40000000000000002, 'Precision': 0.2857142857142857, 'Accuracy': 0.76470588235294112}\n",
      "DecisionTree:  {'Recall': 0.80000000000000004, 'Precision': 0.40000000000000002, 'Accuracy': 0.79411764705882348}\n",
      "KNeighbors:  {'Recall': 0.40000000000000002, 'Precision': 0.66666666666666663, 'Accuracy': 0.88235294117647056}\n"
     ]
    }
   ],
   "source": [
    "#third list\n",
    "print third_list\n",
    "print 'GaussianNB: ', test_list(GaussianNB(),third_list,enron_dict)\n",
    "print 'DecisionTree: ', test_list(DecisionTreeClassifier(),third_list,enron_dict)\n",
    "print 'KNeighbors: ', test_list(KNeighborsClassifier(),third_list,enron_dict)"
   ]
  },
  {
   "cell_type": "code",
   "execution_count": 90,
   "metadata": {
    "collapsed": false
   },
   "outputs": [
    {
     "name": "stdout",
     "output_type": "stream",
     "text": [
      "['poi', 'bonus', 'exercised_stock_options', 'fraction_to_poi']\n",
      "GaussianNB:  {'Recall': 0.20000000000000001, 'Precision': 0.14285714285714285, 'Accuracy': 0.73684210526315785}\n",
      "DecisionTree:  {'Recall': 0.40000000000000002, 'Precision': 0.22222222222222221, 'Accuracy': 0.73684210526315785}\n",
      "KNeighbors:  {'Recall': 0.59999999999999998, 'Precision': 0.75, 'Accuracy': 0.92105263157894735}\n"
     ]
    }
   ],
   "source": [
    "#fourth_list\n",
    "print fourth_list\n",
    "print 'GaussianNB: ', test_list(GaussianNB(),fourth_list,enron_dict)\n",
    "print 'DecisionTree: ', test_list(DecisionTreeClassifier(),fourth_list,enron_dict)\n",
    "print 'KNeighbors: ', test_list(KNeighborsClassifier(),fourth_list,enron_dict)"
   ]
  },
  {
   "cell_type": "markdown",
   "metadata": {},
   "source": [
    "With an accuracy score of 92%, a precision score of 75%, and a recall score of 60% ...\n",
    "\n",
    "Our Final List includes <b>'poi', 'bonus', 'exercised stock options', and 'fraction to poi'</b>\n",
    "<br>\n",
    "Our Final Classifier with be <b>KNeighbors</b>"
   ]
  },
  {
   "cell_type": "markdown",
   "metadata": {},
   "source": [
    "<a id='Validating'></a>\n",
    "\n",
    "## Validation\n",
    "\n",
    "We've already implemented our validation process, but here we will discuss its importance.  Without validating our classifier using training/testing data, we have no way of measuring its accuracy and reliability.  Training and testing the classifier against the same data will only yield overfitting results.  This is why validation is important.  By using StratifiedShuffleSplit to split our data into training and testing data, we can make sure that our classes are allocated by the same ratio set for training/testing and that each datapoint in the class is randomly selected.  Because of our small dataset, setting the iterations to 1000 will give us more reliable results in the end, as we will have trained and tested on almost all of our datapoints.  The only downside is the run time."
   ]
  },
  {
   "cell_type": "code",
   "execution_count": 91,
   "metadata": {
    "collapsed": false
   },
   "outputs": [],
   "source": [
    "### Store to my_dataset for easy export below.\n",
    "my_dataset = enron_dict\n",
    "\n",
    "### Extract features and labels from dataset for local testing\n",
    "data = featureFormat(my_dataset, features_final_list, sort_keys = True)\n",
    "labels, features = targetFeatureSplit(data)"
   ]
  },
  {
   "cell_type": "code",
   "execution_count": 92,
   "metadata": {
    "collapsed": false
   },
   "outputs": [
    {
     "name": "stdout",
     "output_type": "stream",
     "text": [
      "0.921052631579\n"
     ]
    }
   ],
   "source": [
    "#Validation using StratifiedShuffleSplit in order to evenly dispurse the classes between training and test data\n",
    "X = np.array(features)\n",
    "y = np.array(labels)\n",
    "sss = StratifiedShuffleSplit(labels, n_iter=1000, test_size=0.3, random_state=42)      \n",
    "for train_index, test_index in sss:\n",
    "    features_train, features_test = X[train_index], X[test_index]\n",
    "    labels_train, labels_test = y[train_index], y[test_index]\n",
    "\n",
    "#check for accuracy\n",
    "    \n",
    "clf = KNeighborsClassifier()\n",
    "clf.fit(features_train, labels_train)\n",
    "\n",
    "print clf.score(features_test, labels_test)"
   ]
  },
  {
   "cell_type": "markdown",
   "metadata": {},
   "source": [
    "[Top](#top)\n",
    "\n",
    "<a id=\"Tuning\"></a>\n",
    "\n",
    "## Tuning\n",
    "\n",
    "Even though we've all but settled on KNeighbors, let's see if tuning the parameters of our Decision Tree Classifier would make a difference.  Tuning parameters can sometimes significantly change our performance metrics outcome.  Parameters can control for overfitting/underfitting, so tuning them can certainly change the metrics."
   ]
  },
  {
   "cell_type": "code",
   "execution_count": 93,
   "metadata": {
    "collapsed": false
   },
   "outputs": [
    {
     "data": {
      "text/plain": [
       "{'class_weight': None,\n",
       " 'criterion': 'gini',\n",
       " 'max_depth': None,\n",
       " 'max_features': None,\n",
       " 'max_leaf_nodes': None,\n",
       " 'min_impurity_split': 1e-07,\n",
       " 'min_samples_leaf': 1,\n",
       " 'min_samples_split': 2,\n",
       " 'min_weight_fraction_leaf': 0.0,\n",
       " 'presort': False,\n",
       " 'random_state': None,\n",
       " 'splitter': 'best'}"
      ]
     },
     "execution_count": 93,
     "metadata": {},
     "output_type": "execute_result"
    }
   ],
   "source": [
    "DecisionTreeClassifier().get_params()"
   ]
  },
  {
   "cell_type": "code",
   "execution_count": 94,
   "metadata": {
    "collapsed": false
   },
   "outputs": [],
   "source": [
    "#Decision Tree\n",
    "from sklearn.tree import DecisionTreeClassifier\n",
    "\n",
    "#set min_samples_split to 3 and increase until no longer helpful\n",
    "clf = DecisionTreeClassifier(min_samples_split=9)\n",
    "clf.fit(features_train,labels_train)\n",
    "pred = clf.predict(features_test)"
   ]
  },
  {
   "cell_type": "code",
   "execution_count": 95,
   "metadata": {
    "collapsed": false
   },
   "outputs": [
    {
     "name": "stdout",
     "output_type": "stream",
     "text": [
      "{'Recall': 0.40000000000000002, 'Precision': 0.25, 'Accuracy': 0.76315789473684215}\n"
     ]
    }
   ],
   "source": [
    "\"\"\"  Can we do better?  [0.71052631578947367, 0.20000000000000001, 0.40000000000000002]\"\"\"\n",
    "\n",
    "#print performance metrics\n",
    "print {'Accuracy': accuracy_score(labels_test,pred),'Precision': precision_score(labels_test,pred),\n",
    "       'Recall': recall_score(labels_test,pred)}"
   ]
  },
  {
   "cell_type": "code",
   "execution_count": 96,
   "metadata": {
    "collapsed": false
   },
   "outputs": [
    {
     "data": {
      "text/plain": [
       "<matplotlib.axes._subplots.AxesSubplot at 0x177c7828>"
      ]
     },
     "execution_count": 96,
     "metadata": {},
     "output_type": "execute_result"
    },
    {
     "data": {
      "image/png": "[encoded data removed]",
      "text/plain": [
       "<matplotlib.figure.Figure at 0x177d2be0>"
      ]
     },
     "metadata": {},
     "output_type": "display_data"
    }
   ],
   "source": [
    "#plot confusion matrix\n",
    "skplt.metrics.plot_confusion_matrix(labels_test, pred, normalize=True)"
   ]
  },
  {
   "cell_type": "markdown",
   "metadata": {},
   "source": [
    "How about our KNeighbors Classifier?  What are the parameters?  If we changed any of them, would it make a difference?"
   ]
  },
  {
   "cell_type": "code",
   "execution_count": 97,
   "metadata": {
    "collapsed": false
   },
   "outputs": [
    {
     "data": {
      "text/plain": [
       "{'algorithm': 'auto',\n",
       " 'leaf_size': 30,\n",
       " 'metric': 'minkowski',\n",
       " 'metric_params': None,\n",
       " 'n_jobs': 1,\n",
       " 'n_neighbors': 5,\n",
       " 'p': 2,\n",
       " 'weights': 'uniform'}"
      ]
     },
     "execution_count": 97,
     "metadata": {},
     "output_type": "execute_result"
    }
   ],
   "source": [
    "KNeighborsClassifier().get_params()"
   ]
  },
  {
   "cell_type": "code",
   "execution_count": 98,
   "metadata": {
    "collapsed": false
   },
   "outputs": [
    {
     "name": "stdout",
     "output_type": "stream",
     "text": [
      "{'Recall': 0.59999999999999998, 'Precision': 1.0, 'Accuracy': 0.94736842105263153}\n"
     ]
    }
   ],
   "source": [
    "\"\"\"Can we do better without overfitting?  [0.92105263157894735, 0.75, 0.59999999999999998]\"\"\"\n",
    "\n",
    "#set n_neighbors to 2 and increase until metrics show overfitting\n",
    "clf = KNeighborsClassifier(n_neighbors=6)\n",
    "clf.fit(features_train,labels_train)\n",
    "pred = clf.predict(features_test)\n",
    "\n",
    "print {'Accuracy': accuracy_score(labels_test,pred),'Precision': precision_score(labels_test,pred),\n",
    "       'Recall': recall_score(labels_test,pred)}"
   ]
  },
  {
   "cell_type": "markdown",
   "metadata": {},
   "source": [
    "^OVERFIT!  "
   ]
  },
  {
   "cell_type": "code",
   "execution_count": 99,
   "metadata": {
    "collapsed": true
   },
   "outputs": [],
   "source": [
    "\"\"\"Can we still do better?  [0.92105263157894735, 0.75, 0.59999999999999998]\"\"\"\n",
    "\n",
    "#set n_neighbors to 2,3, and 4\n",
    "\n",
    "def test_param(n):\n",
    "    clf = KNeighborsClassifier(n_neighbors=n)\n",
    "    clf.fit(features_train,labels_train)\n",
    "    pred = clf.predict(features_test)\n",
    "\n",
    "    return [accuracy_score(labels_test,pred), precision_score(labels_test,pred), recall_score(labels_test,pred)]"
   ]
  },
  {
   "cell_type": "code",
   "execution_count": 100,
   "metadata": {
    "collapsed": false
   },
   "outputs": [
    {
     "name": "stdout",
     "output_type": "stream",
     "text": [
      "2:  [0.92105263157894735, 0.75, 0.59999999999999998]\n",
      "3:  [0.89473684210526316, 0.59999999999999998, 0.59999999999999998]\n",
      "4:  [0.92105263157894735, 0.75, 0.59999999999999998]\n"
     ]
    }
   ],
   "source": [
    "print \"2: \", test_param(2)\n",
    "print \"3: \", test_param(3)\n",
    "print \"4: \", test_param(4)"
   ]
  },
  {
   "cell_type": "markdown",
   "metadata": {},
   "source": [
    "### GridSearchCV"
   ]
  },
  {
   "cell_type": "markdown",
   "metadata": {},
   "source": [
    "When using GridSearchCV to find the best parameters for KNeighbors, our estimator gives us the same results.  "
   ]
  },
  {
   "cell_type": "code",
   "execution_count": 114,
   "metadata": {
    "collapsed": false
   },
   "outputs": [
    {
     "data": {
      "text/plain": [
       "GridSearchCV(cv=5, error_score='raise',\n",
       "       estimator=KNeighborsClassifier(algorithm='auto', leaf_size=30, metric='minkowski',\n",
       "           metric_params=None, n_jobs=1, n_neighbors=5, p=2,\n",
       "           weights='uniform'),\n",
       "       fit_params={}, iid=True, n_jobs=1,\n",
       "       param_grid={'n_neighbors': array([ 1,  2,  3,  4,  5,  6,  7,  8,  9, 10]), 'leaf_size': array([ 1,  2,  3,  4,  5,  6,  7,  8,  9, 10, 11, 12, 13, 14, 15, 16, 17,\n",
       "       18, 19, 20, 21, 22, 23, 24, 25, 26, 27, 28, 29, 30]), 'algorithm': ('auto', 'ball_tree', 'kd_tree', 'brute')},\n",
       "       pre_dispatch='2*n_jobs', refit=True, return_train_score=True,\n",
       "       scoring=None, verbose=0)"
      ]
     },
     "execution_count": 114,
     "metadata": {},
     "output_type": "execute_result"
    }
   ],
   "source": [
    "from sklearn.model_selection import GridSearchCV\n",
    "\n",
    "k = np.arange(10)+1\n",
    "leaf = np.arange(30)+1\n",
    "params = {'algorithm': ('auto', 'ball_tree', 'kd_tree', 'brute'),'leaf_size': leaf,'n_neighbors': k}\n",
    "\n",
    "clf_params = GridSearchCV(KNeighborsClassifier(), params, cv=5)\n",
    "clf_params.fit(features_train,labels_train)"
   ]
  },
  {
   "cell_type": "code",
   "execution_count": 115,
   "metadata": {
    "collapsed": false
   },
   "outputs": [
    {
     "data": {
      "text/plain": [
       "KNeighborsClassifier(algorithm='auto', leaf_size=1, metric='minkowski',\n",
       "           metric_params=None, n_jobs=1, n_neighbors=5, p=2,\n",
       "           weights='uniform')"
      ]
     },
     "execution_count": 115,
     "metadata": {},
     "output_type": "execute_result"
    }
   ],
   "source": [
    "clf_params.best_estimator_"
   ]
  },
  {
   "cell_type": "markdown",
   "metadata": {},
   "source": [
    "Let's see what kind of results we get using the parameters \"suggested\" by GridSearchCV."
   ]
  },
  {
   "cell_type": "code",
   "execution_count": 111,
   "metadata": {
    "collapsed": false
   },
   "outputs": [
    {
     "name": "stdout",
     "output_type": "stream",
     "text": [
      "{'Recall': 0.59999999999999998, 'Precision': 0.75, 'Accuracy': 0.92105263157894735}\n"
     ]
    }
   ],
   "source": [
    "clf = KNeighborsClassifier(algorithm='auto', leaf_size=1, metric='minkowski',\n",
    "                           metric_params=None, n_jobs=1, n_neighbors=5, p=2,\n",
    "                           weights='uniform')\n",
    "clf.fit(features_train,labels_train)\n",
    "pred = clf.predict(features_test)\n",
    "\n",
    "print {'Accuracy': accuracy_score(labels_test,pred),'Precision': precision_score(labels_test,pred),\n",
    "       'Recall': recall_score(labels_test,pred)}"
   ]
  },
  {
   "cell_type": "markdown",
   "metadata": {},
   "source": [
    "These are the same results as our default settings, so that's what we'll use.  "
   ]
  },
  {
   "cell_type": "markdown",
   "metadata": {},
   "source": [
    "[Top](#top)\n",
    "\n",
    "<a id=\"Analysis\"></a>\n",
    "\n",
    "### FINAL FEATURES and ALGORITHM SELECTION\n",
    "\n",
    "Our final features, based on our feature analysis and testing, will be:\n",
    "\n",
    "- Bonus\n",
    "- Exercised Stock Options\n",
    "- Fraction to POI\n",
    "\n",
    "The KNeighbors Classifier, even without any parameter tuning, had a higher accuracy score than the Decision Tree Classifier with its min_samples_split tuned to 9.  So, we're going to use KNeighbors in our POI identifier.  KNearest Neighbors will help us zero in on pockets of POIs/non-POIs within our testing data.  The features I selected work well with this particular classifier because 'bonus' and 'exercised stock options' are good for training the algorithm to pick up on POI compensation trends, and 'fraction_to_poi' will help our algorithm pick up on POI e-mail behavior.  I narrowed it down to three features so as not to create noise.  When running our longer lists of features, we saw our precision and recall drop to zero, so cutting down our features to 3 was the strategy moving forward.  As we had already gotten rid of features with lots of missing data, it was easier to narrow them down and test each list against our chosen classifiers."
   ]
  },
  {
   "cell_type": "code",
   "execution_count": 116,
   "metadata": {
    "collapsed": false
   },
   "outputs": [
    {
     "name": "stdout",
     "output_type": "stream",
     "text": [
      "0.921052631579\n",
      "0.75\n",
      "0.6\n"
     ]
    }
   ],
   "source": [
    "clf = KNeighborsClassifier()\n",
    "clf.fit(features_train,labels_train)\n",
    "pred = clf.predict(features_test)\n",
    "\n",
    "print accuracy_score(labels_test,pred)\n",
    "print precision_score(labels_test,pred)\n",
    "print recall_score(labels_test,pred)"
   ]
  },
  {
   "cell_type": "code",
   "execution_count": 117,
   "metadata": {
    "collapsed": false
   },
   "outputs": [
    {
     "data": {
      "text/plain": [
       "<matplotlib.axes._subplots.AxesSubplot at 0x12c6bcf8>"
      ]
     },
     "execution_count": 117,
     "metadata": {},
     "output_type": "execute_result"
    },
    {
     "data": {
      "image/png": "[encoded data removed]",
      "text/plain": [
       "<matplotlib.figure.Figure at 0x11fe72e8>"
      ]
     },
     "metadata": {},
     "output_type": "display_data"
    }
   ],
   "source": [
    "#plot confusion matrix\n",
    "skplt.metrics.plot_confusion_matrix(labels_test, pred, normalize=True)"
   ]
  },
  {
   "cell_type": "code",
   "execution_count": 119,
   "metadata": {
    "collapsed": true
   },
   "outputs": [],
   "source": [
    "### Task 6: Dump your classifier, dataset, and features_list \n",
    "features_list = features_final_list\n",
    "dump_classifier_and_data(clf, my_dataset, features_list)"
   ]
  },
  {
   "cell_type": "code",
   "execution_count": 120,
   "metadata": {
    "collapsed": false
   },
   "outputs": [
    {
     "name": "stdout",
     "output_type": "stream",
     "text": [
      "KNeighborsClassifier(algorithm='auto', leaf_size=30, metric='minkowski',\n",
      "           metric_params=None, n_jobs=1, n_neighbors=5, p=2,\n",
      "           weights='uniform')\n",
      "\tAccuracy: 0.87854\tPrecision: 0.71113\tRecall: 0.35450\tF1: 0.47314\tF2: 0.39402\n",
      "\tTotal predictions: 13000\tTrue positives:  709\tFalse positives:  288\tFalse negatives: 1291\tTrue negatives: 10712\n",
      "\n"
     ]
    }
   ],
   "source": [
    "#test performance using tester.py\n",
    "\n",
    "%run 'tester.py'"
   ]
  },
  {
   "cell_type": "markdown",
   "metadata": {
    "collapsed": true
   },
   "source": [
    "<a id='Thoughts'></a>\n",
    "\n",
    "## Final Thoughts"
   ]
  },
  {
   "cell_type": "markdown",
   "metadata": {},
   "source": [
    "With an accuracy of 85-95%, precision of 65-75%, and recall of 35-60%, I think our algorithm has done well considering the small amount of data we had to work with.  But, using our validation methods proved useful in creating a reliable algorithm. We've done pretty well, but I don't think I'd want to bet anyones life in prison on any algorithm trained on this data.  We could use more data!  Our Naive Bayes and Decision Tree Classifiers didn't perform as well.  Although, overfitting is a problem as you increase the number of 'n_neighbors' in our KNeighbors Classifier, we can avoid this by keeping the default setting of 5.  That left us with a working algorithm and some pretty solid evaluation metrics.  According to our confusion matrix, we were able to identify 97% of non-POIs and 60% of POIs.  I'd rather get a few POIs wrong than falsely identify a non-POI as a POI.  There may come a day when people will be convicted based on machine learning, so it's important that we be as accurate as possible.  This identifier only gets it wrong around 40% of the time."
   ]
  },
  {
   "cell_type": "code",
   "execution_count": 124,
   "metadata": {
    "collapsed": false
   },
   "outputs": [],
   "source": [
    "%run 'poi_id.py'"
   ]
  },
  {
   "cell_type": "code",
   "execution_count": 125,
   "metadata": {
    "collapsed": false
   },
   "outputs": [
    {
     "name": "stdout",
     "output_type": "stream",
     "text": [
      "KNeighborsClassifier(algorithm='auto', leaf_size=30, metric='minkowski',\n",
      "           metric_params=None, n_jobs=1, n_neighbors=5, p=2,\n",
      "           weights='uniform')\n",
      "\tAccuracy: 0.87854\tPrecision: 0.71113\tRecall: 0.35450\tF1: 0.47314\tF2: 0.39402\n",
      "\tTotal predictions: 13000\tTrue positives:  709\tFalse positives:  288\tFalse negatives: 1291\tTrue negatives: 10712\n",
      "\n"
     ]
    }
   ],
   "source": [
    "%run 'tester.py'"
   ]
  },
  {
   "cell_type": "code",
   "execution_count": null,
   "metadata": {
    "collapsed": true
   },
   "outputs": [],
   "source": []
  }
 ],
 "metadata": {
  "anaconda-cloud": {},
  "kernelspec": {
   "display_name": "Python [Root]",
   "language": "python",
   "name": "Python [Root]"
  },
  "language_info": {
   "codemirror_mode": {
    "name": "ipython",
    "version": 2
   },
   "file_extension": ".py",
   "mimetype": "text/x-python",
   "name": "python",
   "nbconvert_exporter": "python",
   "pygments_lexer": "ipython2",
   "version": "2.7.12"
  }
 },
 "nbformat": 4,
 "nbformat_minor": 0
}
